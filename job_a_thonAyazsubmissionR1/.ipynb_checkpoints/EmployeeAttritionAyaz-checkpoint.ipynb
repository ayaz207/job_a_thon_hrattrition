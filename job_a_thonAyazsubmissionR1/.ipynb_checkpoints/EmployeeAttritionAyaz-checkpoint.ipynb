{
 "cells": [
  {
   "cell_type": "markdown",
   "id": "977b5c9e",
   "metadata": {},
   "source": [
    "## Problem Statement"
   ]
  },
  {
   "cell_type": "markdown",
   "id": "403bd93d",
   "metadata": {},
   "source": [
    "In recent years, attention has increasingly been paid to human resources (HR), since worker quality and skills represent a growth factor and a real competitive advantage for companies. After proving its mettle in sales and marketing, artificial intelligence is also becoming central to employee-related decisions within HR management. Organizational growth largely depends on staff retention. Losing employees frequently impacts the morale of the organization and hiring new employees is more expensive than retaining existing ones. \n",
    "\n",
    "You are working as a data scientist with HR Department of a large insurance company focused on sales team attrition. Insurance sales teams help insurance companies generate new business by contacting potential customers and selling one or more types of insurance. The department generally sees high attrition and thus staffing becomes a crucial aspect. \n",
    "\n",
    "To aid staffing, you are provided with the monthly information for a segment of employees for 2016 and 2017 and tasked to predict whether a current employee will be leaving the organization in the upcoming two quarters (01 Jan 2018 - 01 July 2018) or not, given:\n",
    "\n",
    "\n",
    "1. Demographics of the employee (city, age, gender etc.)\n",
    "2. Tenure information (joining date, Last Date)\n",
    "3. Historical data regarding the performance of the employee (Quarterly rating, Monthly business acquired, designation, salary)"
   ]
  },
  {
   "cell_type": "markdown",
   "id": "aa3837a4",
   "metadata": {},
   "source": [
    "## Table of Content"
   ]
  },
  {
   "cell_type": "markdown",
   "id": "d00eba7e",
   "metadata": {},
   "source": [
    "T\n",
    "Step 1: Importing the Relevant Libraries\n",
    "\n",
    "Step 2: Data Inspection\n",
    "\n",
    "Step 3: Data Cleaning\n",
    "\n",
    "Step 4: Exploratory Data Analysis\n",
    "\n",
    "Step 5: Building Model"
   ]
  },
  {
   "cell_type": "markdown",
   "id": "adc9374c",
   "metadata": {},
   "source": [
    "## Step 1: Importing Relevent Libraries"
   ]
  },
  {
   "cell_type": "code",
   "execution_count": 1,
   "id": "9e372aa5",
   "metadata": {},
   "outputs": [],
   "source": [
    "import pandas as pd\n",
    "import numpy as np\n",
    "from sklearn import preprocessing\n",
    "import matplotlib.pyplot as plt \n",
    "plt.rc(\"font\", size=14)\n",
    "from sklearn.model_selection import train_test_split\n",
    "import seaborn as sns\n",
    "sns.set(style=\"white\")\n",
    "sns.set(style=\"whitegrid\", color_codes=True)\n",
    "import warnings\n",
    "warnings.filterwarnings('ignore')"
   ]
  },
  {
   "cell_type": "markdown",
   "id": "e17ff61a",
   "metadata": {},
   "source": [
    "## Step 2: Data Inspection"
   ]
  },
  {
   "cell_type": "code",
   "execution_count": 2,
   "id": "4ad7dd8c",
   "metadata": {},
   "outputs": [],
   "source": [
    "train= pd.read_csv('train_MpHjUjU.csv')\n",
    "test= pd.read_csv('test_hXY9mYw.csv')"
   ]
  },
  {
   "cell_type": "code",
   "execution_count": 3,
   "id": "fa708def",
   "metadata": {},
   "outputs": [
    {
     "data": {
      "text/plain": [
       "((19104, 13), (741, 1))"
      ]
     },
     "execution_count": 3,
     "metadata": {},
     "output_type": "execute_result"
    }
   ],
   "source": [
    "train.shape,test.shape"
   ]
  },
  {
   "cell_type": "markdown",
   "id": "7c79d08e",
   "metadata": {},
   "source": [
    "* Here Test data has rows &  columns where as test data has  rows &  column"
   ]
  },
  {
   "cell_type": "code",
   "execution_count": 4,
   "id": "5bee0c3b",
   "metadata": {},
   "outputs": [
    {
     "data": {
      "text/plain": [
       "MMM-YY                      0\n",
       "Emp_ID                      0\n",
       "Age                         0\n",
       "Gender                      0\n",
       "City                        0\n",
       "Education_Level             0\n",
       "Salary                      0\n",
       "Dateofjoining               0\n",
       "LastWorkingDate         17488\n",
       "Joining Designation         0\n",
       "Designation                 0\n",
       "Total Business Value        0\n",
       "Quarterly Rating            0\n",
       "dtype: int64"
      ]
     },
     "execution_count": 4,
     "metadata": {},
     "output_type": "execute_result"
    }
   ],
   "source": [
    "train.isnull().sum()"
   ]
  },
  {
   "cell_type": "code",
   "execution_count": 5,
   "id": "bb8c7780",
   "metadata": {},
   "outputs": [
    {
     "data": {
      "text/html": [
       "<div>\n",
       "<style scoped>\n",
       "    .dataframe tbody tr th:only-of-type {\n",
       "        vertical-align: middle;\n",
       "    }\n",
       "\n",
       "    .dataframe tbody tr th {\n",
       "        vertical-align: top;\n",
       "    }\n",
       "\n",
       "    .dataframe thead th {\n",
       "        text-align: right;\n",
       "    }\n",
       "</style>\n",
       "<table border=\"1\" class=\"dataframe\">\n",
       "  <thead>\n",
       "    <tr style=\"text-align: right;\">\n",
       "      <th></th>\n",
       "      <th>MMM-YY</th>\n",
       "      <th>Emp_ID</th>\n",
       "      <th>Age</th>\n",
       "      <th>Gender</th>\n",
       "      <th>City</th>\n",
       "      <th>Education_Level</th>\n",
       "      <th>Salary</th>\n",
       "      <th>Dateofjoining</th>\n",
       "      <th>LastWorkingDate</th>\n",
       "      <th>Joining Designation</th>\n",
       "      <th>Designation</th>\n",
       "      <th>Total Business Value</th>\n",
       "      <th>Quarterly Rating</th>\n",
       "    </tr>\n",
       "  </thead>\n",
       "  <tbody>\n",
       "    <tr>\n",
       "      <th>0</th>\n",
       "      <td>2016-01-01</td>\n",
       "      <td>1</td>\n",
       "      <td>28</td>\n",
       "      <td>Male</td>\n",
       "      <td>C23</td>\n",
       "      <td>Master</td>\n",
       "      <td>57387</td>\n",
       "      <td>2015-12-24</td>\n",
       "      <td>NaN</td>\n",
       "      <td>1</td>\n",
       "      <td>1</td>\n",
       "      <td>2381060</td>\n",
       "      <td>2</td>\n",
       "    </tr>\n",
       "    <tr>\n",
       "      <th>1</th>\n",
       "      <td>2016-02-01</td>\n",
       "      <td>1</td>\n",
       "      <td>28</td>\n",
       "      <td>Male</td>\n",
       "      <td>C23</td>\n",
       "      <td>Master</td>\n",
       "      <td>57387</td>\n",
       "      <td>2015-12-24</td>\n",
       "      <td>NaN</td>\n",
       "      <td>1</td>\n",
       "      <td>1</td>\n",
       "      <td>-665480</td>\n",
       "      <td>2</td>\n",
       "    </tr>\n",
       "    <tr>\n",
       "      <th>2</th>\n",
       "      <td>2016-03-01</td>\n",
       "      <td>1</td>\n",
       "      <td>28</td>\n",
       "      <td>Male</td>\n",
       "      <td>C23</td>\n",
       "      <td>Master</td>\n",
       "      <td>57387</td>\n",
       "      <td>2015-12-24</td>\n",
       "      <td>2016-03-11</td>\n",
       "      <td>1</td>\n",
       "      <td>1</td>\n",
       "      <td>0</td>\n",
       "      <td>2</td>\n",
       "    </tr>\n",
       "    <tr>\n",
       "      <th>3</th>\n",
       "      <td>2017-11-01</td>\n",
       "      <td>2</td>\n",
       "      <td>31</td>\n",
       "      <td>Male</td>\n",
       "      <td>C7</td>\n",
       "      <td>Master</td>\n",
       "      <td>67016</td>\n",
       "      <td>2017-11-06</td>\n",
       "      <td>NaN</td>\n",
       "      <td>2</td>\n",
       "      <td>2</td>\n",
       "      <td>0</td>\n",
       "      <td>1</td>\n",
       "    </tr>\n",
       "    <tr>\n",
       "      <th>4</th>\n",
       "      <td>2017-12-01</td>\n",
       "      <td>2</td>\n",
       "      <td>31</td>\n",
       "      <td>Male</td>\n",
       "      <td>C7</td>\n",
       "      <td>Master</td>\n",
       "      <td>67016</td>\n",
       "      <td>2017-11-06</td>\n",
       "      <td>NaN</td>\n",
       "      <td>2</td>\n",
       "      <td>2</td>\n",
       "      <td>0</td>\n",
       "      <td>1</td>\n",
       "    </tr>\n",
       "  </tbody>\n",
       "</table>\n",
       "</div>"
      ],
      "text/plain": [
       "       MMM-YY  Emp_ID  Age Gender City Education_Level  Salary Dateofjoining  \\\n",
       "0  2016-01-01       1   28   Male  C23          Master   57387    2015-12-24   \n",
       "1  2016-02-01       1   28   Male  C23          Master   57387    2015-12-24   \n",
       "2  2016-03-01       1   28   Male  C23          Master   57387    2015-12-24   \n",
       "3  2017-11-01       2   31   Male   C7          Master   67016    2017-11-06   \n",
       "4  2017-12-01       2   31   Male   C7          Master   67016    2017-11-06   \n",
       "\n",
       "  LastWorkingDate  Joining Designation  Designation  Total Business Value  \\\n",
       "0             NaN                    1            1               2381060   \n",
       "1             NaN                    1            1               -665480   \n",
       "2      2016-03-11                    1            1                     0   \n",
       "3             NaN                    2            2                     0   \n",
       "4             NaN                    2            2                     0   \n",
       "\n",
       "   Quarterly Rating  \n",
       "0                 2  \n",
       "1                 2  \n",
       "2                 2  \n",
       "3                 1  \n",
       "4                 1  "
      ]
     },
     "execution_count": 5,
     "metadata": {},
     "output_type": "execute_result"
    }
   ],
   "source": [
    "train.head()"
   ]
  },
  {
   "cell_type": "code",
   "execution_count": 6,
   "id": "b73ee349",
   "metadata": {},
   "outputs": [
    {
     "data": {
      "text/plain": [
       "dtype('O')"
      ]
     },
     "execution_count": 6,
     "metadata": {},
     "output_type": "execute_result"
    }
   ],
   "source": [
    "train.LastWorkingDate.dtype"
   ]
  },
  {
   "cell_type": "code",
   "execution_count": 7,
   "id": "39d15e53",
   "metadata": {},
   "outputs": [
    {
     "name": "stdout",
     "output_type": "stream",
     "text": [
      "<class 'pandas.core.frame.DataFrame'>\n",
      "RangeIndex: 19104 entries, 0 to 19103\n",
      "Data columns (total 13 columns):\n",
      " #   Column                Non-Null Count  Dtype \n",
      "---  ------                --------------  ----- \n",
      " 0   MMM-YY                19104 non-null  object\n",
      " 1   Emp_ID                19104 non-null  int64 \n",
      " 2   Age                   19104 non-null  int64 \n",
      " 3   Gender                19104 non-null  object\n",
      " 4   City                  19104 non-null  object\n",
      " 5   Education_Level       19104 non-null  object\n",
      " 6   Salary                19104 non-null  int64 \n",
      " 7   Dateofjoining         19104 non-null  object\n",
      " 8   LastWorkingDate       1616 non-null   object\n",
      " 9   Joining Designation   19104 non-null  int64 \n",
      " 10  Designation           19104 non-null  int64 \n",
      " 11  Total Business Value  19104 non-null  int64 \n",
      " 12  Quarterly Rating      19104 non-null  int64 \n",
      "dtypes: int64(7), object(6)\n",
      "memory usage: 1.9+ MB\n"
     ]
    }
   ],
   "source": [
    "train.info()"
   ]
  },
  {
   "cell_type": "markdown",
   "id": "4979c27a",
   "metadata": {},
   "source": [
    "## Data cleaning"
   ]
  },
  {
   "cell_type": "code",
   "execution_count": 8,
   "id": "a160e2dc",
   "metadata": {},
   "outputs": [],
   "source": [
    "def is_float(x):\n",
    "    try:\n",
    "        float(x)\n",
    "    except:\n",
    "        return 1\n",
    "    return 0"
   ]
  },
  {
   "cell_type": "code",
   "execution_count": 9,
   "id": "327f606d",
   "metadata": {},
   "outputs": [],
   "source": [
    "train1=train"
   ]
  },
  {
   "cell_type": "code",
   "execution_count": 10,
   "id": "025c7275",
   "metadata": {},
   "outputs": [],
   "source": [
    "train1['Attrition']=train.LastWorkingDate.apply(is_float)"
   ]
  },
  {
   "cell_type": "code",
   "execution_count": 11,
   "id": "8c8f413f",
   "metadata": {},
   "outputs": [
    {
     "data": {
      "text/html": [
       "<div>\n",
       "<style scoped>\n",
       "    .dataframe tbody tr th:only-of-type {\n",
       "        vertical-align: middle;\n",
       "    }\n",
       "\n",
       "    .dataframe tbody tr th {\n",
       "        vertical-align: top;\n",
       "    }\n",
       "\n",
       "    .dataframe thead th {\n",
       "        text-align: right;\n",
       "    }\n",
       "</style>\n",
       "<table border=\"1\" class=\"dataframe\">\n",
       "  <thead>\n",
       "    <tr style=\"text-align: right;\">\n",
       "      <th></th>\n",
       "      <th>MMM-YY</th>\n",
       "      <th>Emp_ID</th>\n",
       "      <th>Age</th>\n",
       "      <th>Gender</th>\n",
       "      <th>City</th>\n",
       "      <th>Education_Level</th>\n",
       "      <th>Salary</th>\n",
       "      <th>Dateofjoining</th>\n",
       "      <th>LastWorkingDate</th>\n",
       "      <th>Joining Designation</th>\n",
       "      <th>Designation</th>\n",
       "      <th>Total Business Value</th>\n",
       "      <th>Quarterly Rating</th>\n",
       "      <th>Attrition</th>\n",
       "    </tr>\n",
       "  </thead>\n",
       "  <tbody>\n",
       "    <tr>\n",
       "      <th>0</th>\n",
       "      <td>2016-01-01</td>\n",
       "      <td>1</td>\n",
       "      <td>28</td>\n",
       "      <td>Male</td>\n",
       "      <td>C23</td>\n",
       "      <td>Master</td>\n",
       "      <td>57387</td>\n",
       "      <td>2015-12-24</td>\n",
       "      <td>NaN</td>\n",
       "      <td>1</td>\n",
       "      <td>1</td>\n",
       "      <td>2381060</td>\n",
       "      <td>2</td>\n",
       "      <td>0</td>\n",
       "    </tr>\n",
       "    <tr>\n",
       "      <th>1</th>\n",
       "      <td>2016-02-01</td>\n",
       "      <td>1</td>\n",
       "      <td>28</td>\n",
       "      <td>Male</td>\n",
       "      <td>C23</td>\n",
       "      <td>Master</td>\n",
       "      <td>57387</td>\n",
       "      <td>2015-12-24</td>\n",
       "      <td>NaN</td>\n",
       "      <td>1</td>\n",
       "      <td>1</td>\n",
       "      <td>-665480</td>\n",
       "      <td>2</td>\n",
       "      <td>0</td>\n",
       "    </tr>\n",
       "    <tr>\n",
       "      <th>2</th>\n",
       "      <td>2016-03-01</td>\n",
       "      <td>1</td>\n",
       "      <td>28</td>\n",
       "      <td>Male</td>\n",
       "      <td>C23</td>\n",
       "      <td>Master</td>\n",
       "      <td>57387</td>\n",
       "      <td>2015-12-24</td>\n",
       "      <td>2016-03-11</td>\n",
       "      <td>1</td>\n",
       "      <td>1</td>\n",
       "      <td>0</td>\n",
       "      <td>2</td>\n",
       "      <td>1</td>\n",
       "    </tr>\n",
       "    <tr>\n",
       "      <th>3</th>\n",
       "      <td>2017-11-01</td>\n",
       "      <td>2</td>\n",
       "      <td>31</td>\n",
       "      <td>Male</td>\n",
       "      <td>C7</td>\n",
       "      <td>Master</td>\n",
       "      <td>67016</td>\n",
       "      <td>2017-11-06</td>\n",
       "      <td>NaN</td>\n",
       "      <td>2</td>\n",
       "      <td>2</td>\n",
       "      <td>0</td>\n",
       "      <td>1</td>\n",
       "      <td>0</td>\n",
       "    </tr>\n",
       "    <tr>\n",
       "      <th>4</th>\n",
       "      <td>2017-12-01</td>\n",
       "      <td>2</td>\n",
       "      <td>31</td>\n",
       "      <td>Male</td>\n",
       "      <td>C7</td>\n",
       "      <td>Master</td>\n",
       "      <td>67016</td>\n",
       "      <td>2017-11-06</td>\n",
       "      <td>NaN</td>\n",
       "      <td>2</td>\n",
       "      <td>2</td>\n",
       "      <td>0</td>\n",
       "      <td>1</td>\n",
       "      <td>0</td>\n",
       "    </tr>\n",
       "  </tbody>\n",
       "</table>\n",
       "</div>"
      ],
      "text/plain": [
       "       MMM-YY  Emp_ID  Age Gender City Education_Level  Salary Dateofjoining  \\\n",
       "0  2016-01-01       1   28   Male  C23          Master   57387    2015-12-24   \n",
       "1  2016-02-01       1   28   Male  C23          Master   57387    2015-12-24   \n",
       "2  2016-03-01       1   28   Male  C23          Master   57387    2015-12-24   \n",
       "3  2017-11-01       2   31   Male   C7          Master   67016    2017-11-06   \n",
       "4  2017-12-01       2   31   Male   C7          Master   67016    2017-11-06   \n",
       "\n",
       "  LastWorkingDate  Joining Designation  Designation  Total Business Value  \\\n",
       "0             NaN                    1            1               2381060   \n",
       "1             NaN                    1            1               -665480   \n",
       "2      2016-03-11                    1            1                     0   \n",
       "3             NaN                    2            2                     0   \n",
       "4             NaN                    2            2                     0   \n",
       "\n",
       "   Quarterly Rating  Attrition  \n",
       "0                 2          0  \n",
       "1                 2          0  \n",
       "2                 2          1  \n",
       "3                 1          0  \n",
       "4                 1          0  "
      ]
     },
     "execution_count": 11,
     "metadata": {},
     "output_type": "execute_result"
    }
   ],
   "source": [
    "train1.head(5)"
   ]
  },
  {
   "cell_type": "code",
   "execution_count": 12,
   "id": "d9e3bf05",
   "metadata": {},
   "outputs": [],
   "source": [
    "train2=train1"
   ]
  },
  {
   "cell_type": "code",
   "execution_count": 13,
   "id": "5b9dd4d6",
   "metadata": {},
   "outputs": [
    {
     "data": {
      "text/html": [
       "<div>\n",
       "<style scoped>\n",
       "    .dataframe tbody tr th:only-of-type {\n",
       "        vertical-align: middle;\n",
       "    }\n",
       "\n",
       "    .dataframe tbody tr th {\n",
       "        vertical-align: top;\n",
       "    }\n",
       "\n",
       "    .dataframe thead th {\n",
       "        text-align: right;\n",
       "    }\n",
       "</style>\n",
       "<table border=\"1\" class=\"dataframe\">\n",
       "  <thead>\n",
       "    <tr style=\"text-align: right;\">\n",
       "      <th></th>\n",
       "      <th>MMM-YY</th>\n",
       "      <th>Emp_ID</th>\n",
       "      <th>Age</th>\n",
       "      <th>Gender</th>\n",
       "      <th>City</th>\n",
       "      <th>Education_Level</th>\n",
       "      <th>Salary</th>\n",
       "      <th>Dateofjoining</th>\n",
       "      <th>LastWorkingDate</th>\n",
       "      <th>Joining Designation</th>\n",
       "      <th>Designation</th>\n",
       "      <th>Total Business Value</th>\n",
       "      <th>Quarterly Rating</th>\n",
       "      <th>Attrition</th>\n",
       "    </tr>\n",
       "  </thead>\n",
       "  <tbody>\n",
       "    <tr>\n",
       "      <th>0</th>\n",
       "      <td>2016-01-01</td>\n",
       "      <td>1</td>\n",
       "      <td>28</td>\n",
       "      <td>Male</td>\n",
       "      <td>C23</td>\n",
       "      <td>Master</td>\n",
       "      <td>57387</td>\n",
       "      <td>2015-12-24</td>\n",
       "      <td>NaN</td>\n",
       "      <td>1</td>\n",
       "      <td>1</td>\n",
       "      <td>2381060</td>\n",
       "      <td>2</td>\n",
       "      <td>0</td>\n",
       "    </tr>\n",
       "    <tr>\n",
       "      <th>1</th>\n",
       "      <td>2016-02-01</td>\n",
       "      <td>1</td>\n",
       "      <td>28</td>\n",
       "      <td>Male</td>\n",
       "      <td>C23</td>\n",
       "      <td>Master</td>\n",
       "      <td>57387</td>\n",
       "      <td>2015-12-24</td>\n",
       "      <td>NaN</td>\n",
       "      <td>1</td>\n",
       "      <td>1</td>\n",
       "      <td>-665480</td>\n",
       "      <td>2</td>\n",
       "      <td>0</td>\n",
       "    </tr>\n",
       "    <tr>\n",
       "      <th>2</th>\n",
       "      <td>2016-03-01</td>\n",
       "      <td>1</td>\n",
       "      <td>28</td>\n",
       "      <td>Male</td>\n",
       "      <td>C23</td>\n",
       "      <td>Master</td>\n",
       "      <td>57387</td>\n",
       "      <td>2015-12-24</td>\n",
       "      <td>2016-03-11</td>\n",
       "      <td>1</td>\n",
       "      <td>1</td>\n",
       "      <td>0</td>\n",
       "      <td>2</td>\n",
       "      <td>1</td>\n",
       "    </tr>\n",
       "    <tr>\n",
       "      <th>3</th>\n",
       "      <td>2017-11-01</td>\n",
       "      <td>2</td>\n",
       "      <td>31</td>\n",
       "      <td>Male</td>\n",
       "      <td>C7</td>\n",
       "      <td>Master</td>\n",
       "      <td>67016</td>\n",
       "      <td>2017-11-06</td>\n",
       "      <td>NaN</td>\n",
       "      <td>2</td>\n",
       "      <td>2</td>\n",
       "      <td>0</td>\n",
       "      <td>1</td>\n",
       "      <td>0</td>\n",
       "    </tr>\n",
       "    <tr>\n",
       "      <th>4</th>\n",
       "      <td>2017-12-01</td>\n",
       "      <td>2</td>\n",
       "      <td>31</td>\n",
       "      <td>Male</td>\n",
       "      <td>C7</td>\n",
       "      <td>Master</td>\n",
       "      <td>67016</td>\n",
       "      <td>2017-11-06</td>\n",
       "      <td>NaN</td>\n",
       "      <td>2</td>\n",
       "      <td>2</td>\n",
       "      <td>0</td>\n",
       "      <td>1</td>\n",
       "      <td>0</td>\n",
       "    </tr>\n",
       "  </tbody>\n",
       "</table>\n",
       "</div>"
      ],
      "text/plain": [
       "       MMM-YY  Emp_ID  Age Gender City Education_Level  Salary Dateofjoining  \\\n",
       "0  2016-01-01       1   28   Male  C23          Master   57387    2015-12-24   \n",
       "1  2016-02-01       1   28   Male  C23          Master   57387    2015-12-24   \n",
       "2  2016-03-01       1   28   Male  C23          Master   57387    2015-12-24   \n",
       "3  2017-11-01       2   31   Male   C7          Master   67016    2017-11-06   \n",
       "4  2017-12-01       2   31   Male   C7          Master   67016    2017-11-06   \n",
       "\n",
       "  LastWorkingDate  Joining Designation  Designation  Total Business Value  \\\n",
       "0             NaN                    1            1               2381060   \n",
       "1             NaN                    1            1               -665480   \n",
       "2      2016-03-11                    1            1                     0   \n",
       "3             NaN                    2            2                     0   \n",
       "4             NaN                    2            2                     0   \n",
       "\n",
       "   Quarterly Rating  Attrition  \n",
       "0                 2          0  \n",
       "1                 2          0  \n",
       "2                 2          1  \n",
       "3                 1          0  \n",
       "4                 1          0  "
      ]
     },
     "execution_count": 13,
     "metadata": {},
     "output_type": "execute_result"
    }
   ],
   "source": [
    "train2.head()"
   ]
  },
  {
   "cell_type": "code",
   "execution_count": 14,
   "id": "e25d295a",
   "metadata": {},
   "outputs": [
    {
     "data": {
      "text/plain": [
       "(19104, 14)"
      ]
     },
     "execution_count": 14,
     "metadata": {},
     "output_type": "execute_result"
    }
   ],
   "source": [
    "train2.shape"
   ]
  },
  {
   "cell_type": "code",
   "execution_count": 15,
   "id": "e7d4622a",
   "metadata": {},
   "outputs": [
    {
     "data": {
      "text/plain": [
       "0"
      ]
     },
     "execution_count": 15,
     "metadata": {},
     "output_type": "execute_result"
    }
   ],
   "source": [
    "train2.duplicated().sum()"
   ]
  },
  {
   "cell_type": "code",
   "execution_count": 16,
   "id": "95771081",
   "metadata": {},
   "outputs": [
    {
     "data": {
      "text/plain": [
       "array([28, 31, 43, 29, 34, 35, 30, 39, 42, 27, 26, 33, 40, 41, 32, 22, 44,\n",
       "       36, 21, 49, 37, 38, 46, 47, 48, 25, 24, 45, 51, 52, 23, 50, 53, 54,\n",
       "       55, 58], dtype=int64)"
      ]
     },
     "execution_count": 16,
     "metadata": {},
     "output_type": "execute_result"
    }
   ],
   "source": [
    "train2.Age.unique()"
   ]
  },
  {
   "cell_type": "markdown",
   "id": "8b30a653",
   "metadata": {},
   "source": []
  },
  {
   "cell_type": "code",
   "execution_count": 17,
   "id": "f51673a0",
   "metadata": {},
   "outputs": [],
   "source": [
    "train2.rename(columns={'Joining Designation':'joining_designation','Total Business Value': 'total_business_value','Quarterly Rating':'quaterly_rating'},inplace=True)"
   ]
  },
  {
   "cell_type": "code",
   "execution_count": 18,
   "id": "223aab4b",
   "metadata": {},
   "outputs": [],
   "source": [
    "traindum=train2"
   ]
  },
  {
   "cell_type": "code",
   "execution_count": 19,
   "id": "2800b61d",
   "metadata": {},
   "outputs": [
    {
     "data": {
      "text/html": [
       "<div>\n",
       "<style scoped>\n",
       "    .dataframe tbody tr th:only-of-type {\n",
       "        vertical-align: middle;\n",
       "    }\n",
       "\n",
       "    .dataframe tbody tr th {\n",
       "        vertical-align: top;\n",
       "    }\n",
       "\n",
       "    .dataframe thead th {\n",
       "        text-align: right;\n",
       "    }\n",
       "</style>\n",
       "<table border=\"1\" class=\"dataframe\">\n",
       "  <thead>\n",
       "    <tr style=\"text-align: right;\">\n",
       "      <th></th>\n",
       "      <th>MMM-YY</th>\n",
       "      <th>Emp_ID</th>\n",
       "      <th>Age</th>\n",
       "      <th>Gender</th>\n",
       "      <th>City</th>\n",
       "      <th>Education_Level</th>\n",
       "      <th>Salary</th>\n",
       "      <th>Dateofjoining</th>\n",
       "      <th>LastWorkingDate</th>\n",
       "      <th>joining_designation</th>\n",
       "      <th>Designation</th>\n",
       "      <th>total_business_value</th>\n",
       "      <th>quaterly_rating</th>\n",
       "      <th>Attrition</th>\n",
       "    </tr>\n",
       "  </thead>\n",
       "  <tbody>\n",
       "    <tr>\n",
       "      <th>0</th>\n",
       "      <td>2016-01-01</td>\n",
       "      <td>1</td>\n",
       "      <td>28</td>\n",
       "      <td>Male</td>\n",
       "      <td>C23</td>\n",
       "      <td>Master</td>\n",
       "      <td>57387</td>\n",
       "      <td>2015-12-24</td>\n",
       "      <td>NaN</td>\n",
       "      <td>1</td>\n",
       "      <td>1</td>\n",
       "      <td>2381060</td>\n",
       "      <td>2</td>\n",
       "      <td>0</td>\n",
       "    </tr>\n",
       "    <tr>\n",
       "      <th>1</th>\n",
       "      <td>2016-02-01</td>\n",
       "      <td>1</td>\n",
       "      <td>28</td>\n",
       "      <td>Male</td>\n",
       "      <td>C23</td>\n",
       "      <td>Master</td>\n",
       "      <td>57387</td>\n",
       "      <td>2015-12-24</td>\n",
       "      <td>NaN</td>\n",
       "      <td>1</td>\n",
       "      <td>1</td>\n",
       "      <td>-665480</td>\n",
       "      <td>2</td>\n",
       "      <td>0</td>\n",
       "    </tr>\n",
       "    <tr>\n",
       "      <th>2</th>\n",
       "      <td>2016-03-01</td>\n",
       "      <td>1</td>\n",
       "      <td>28</td>\n",
       "      <td>Male</td>\n",
       "      <td>C23</td>\n",
       "      <td>Master</td>\n",
       "      <td>57387</td>\n",
       "      <td>2015-12-24</td>\n",
       "      <td>2016-03-11</td>\n",
       "      <td>1</td>\n",
       "      <td>1</td>\n",
       "      <td>0</td>\n",
       "      <td>2</td>\n",
       "      <td>1</td>\n",
       "    </tr>\n",
       "    <tr>\n",
       "      <th>3</th>\n",
       "      <td>2017-11-01</td>\n",
       "      <td>2</td>\n",
       "      <td>31</td>\n",
       "      <td>Male</td>\n",
       "      <td>C7</td>\n",
       "      <td>Master</td>\n",
       "      <td>67016</td>\n",
       "      <td>2017-11-06</td>\n",
       "      <td>NaN</td>\n",
       "      <td>2</td>\n",
       "      <td>2</td>\n",
       "      <td>0</td>\n",
       "      <td>1</td>\n",
       "      <td>0</td>\n",
       "    </tr>\n",
       "    <tr>\n",
       "      <th>4</th>\n",
       "      <td>2017-12-01</td>\n",
       "      <td>2</td>\n",
       "      <td>31</td>\n",
       "      <td>Male</td>\n",
       "      <td>C7</td>\n",
       "      <td>Master</td>\n",
       "      <td>67016</td>\n",
       "      <td>2017-11-06</td>\n",
       "      <td>NaN</td>\n",
       "      <td>2</td>\n",
       "      <td>2</td>\n",
       "      <td>0</td>\n",
       "      <td>1</td>\n",
       "      <td>0</td>\n",
       "    </tr>\n",
       "    <tr>\n",
       "      <th>...</th>\n",
       "      <td>...</td>\n",
       "      <td>...</td>\n",
       "      <td>...</td>\n",
       "      <td>...</td>\n",
       "      <td>...</td>\n",
       "      <td>...</td>\n",
       "      <td>...</td>\n",
       "      <td>...</td>\n",
       "      <td>...</td>\n",
       "      <td>...</td>\n",
       "      <td>...</td>\n",
       "      <td>...</td>\n",
       "      <td>...</td>\n",
       "      <td>...</td>\n",
       "    </tr>\n",
       "    <tr>\n",
       "      <th>95</th>\n",
       "      <td>2016-08-01</td>\n",
       "      <td>22</td>\n",
       "      <td>40</td>\n",
       "      <td>Male</td>\n",
       "      <td>C10</td>\n",
       "      <td>Master</td>\n",
       "      <td>31224</td>\n",
       "      <td>2015-05-25</td>\n",
       "      <td>NaN</td>\n",
       "      <td>1</td>\n",
       "      <td>1</td>\n",
       "      <td>1120560</td>\n",
       "      <td>4</td>\n",
       "      <td>0</td>\n",
       "    </tr>\n",
       "    <tr>\n",
       "      <th>96</th>\n",
       "      <td>2016-09-01</td>\n",
       "      <td>22</td>\n",
       "      <td>40</td>\n",
       "      <td>Male</td>\n",
       "      <td>C10</td>\n",
       "      <td>Master</td>\n",
       "      <td>31224</td>\n",
       "      <td>2015-05-25</td>\n",
       "      <td>NaN</td>\n",
       "      <td>1</td>\n",
       "      <td>1</td>\n",
       "      <td>696920</td>\n",
       "      <td>4</td>\n",
       "      <td>0</td>\n",
       "    </tr>\n",
       "    <tr>\n",
       "      <th>97</th>\n",
       "      <td>2016-10-01</td>\n",
       "      <td>22</td>\n",
       "      <td>40</td>\n",
       "      <td>Male</td>\n",
       "      <td>C10</td>\n",
       "      <td>Master</td>\n",
       "      <td>31224</td>\n",
       "      <td>2015-05-25</td>\n",
       "      <td>NaN</td>\n",
       "      <td>1</td>\n",
       "      <td>1</td>\n",
       "      <td>200000</td>\n",
       "      <td>3</td>\n",
       "      <td>0</td>\n",
       "    </tr>\n",
       "    <tr>\n",
       "      <th>98</th>\n",
       "      <td>2016-11-01</td>\n",
       "      <td>22</td>\n",
       "      <td>41</td>\n",
       "      <td>Male</td>\n",
       "      <td>C10</td>\n",
       "      <td>Master</td>\n",
       "      <td>31224</td>\n",
       "      <td>2015-05-25</td>\n",
       "      <td>NaN</td>\n",
       "      <td>1</td>\n",
       "      <td>1</td>\n",
       "      <td>306410</td>\n",
       "      <td>3</td>\n",
       "      <td>0</td>\n",
       "    </tr>\n",
       "    <tr>\n",
       "      <th>99</th>\n",
       "      <td>2016-12-01</td>\n",
       "      <td>22</td>\n",
       "      <td>41</td>\n",
       "      <td>Male</td>\n",
       "      <td>C10</td>\n",
       "      <td>Master</td>\n",
       "      <td>31224</td>\n",
       "      <td>2015-05-25</td>\n",
       "      <td>NaN</td>\n",
       "      <td>1</td>\n",
       "      <td>1</td>\n",
       "      <td>499480</td>\n",
       "      <td>3</td>\n",
       "      <td>0</td>\n",
       "    </tr>\n",
       "  </tbody>\n",
       "</table>\n",
       "<p>100 rows × 14 columns</p>\n",
       "</div>"
      ],
      "text/plain": [
       "        MMM-YY  Emp_ID  Age Gender City Education_Level  Salary Dateofjoining  \\\n",
       "0   2016-01-01       1   28   Male  C23          Master   57387    2015-12-24   \n",
       "1   2016-02-01       1   28   Male  C23          Master   57387    2015-12-24   \n",
       "2   2016-03-01       1   28   Male  C23          Master   57387    2015-12-24   \n",
       "3   2017-11-01       2   31   Male   C7          Master   67016    2017-11-06   \n",
       "4   2017-12-01       2   31   Male   C7          Master   67016    2017-11-06   \n",
       "..         ...     ...  ...    ...  ...             ...     ...           ...   \n",
       "95  2016-08-01      22   40   Male  C10          Master   31224    2015-05-25   \n",
       "96  2016-09-01      22   40   Male  C10          Master   31224    2015-05-25   \n",
       "97  2016-10-01      22   40   Male  C10          Master   31224    2015-05-25   \n",
       "98  2016-11-01      22   41   Male  C10          Master   31224    2015-05-25   \n",
       "99  2016-12-01      22   41   Male  C10          Master   31224    2015-05-25   \n",
       "\n",
       "   LastWorkingDate  joining_designation  Designation  total_business_value  \\\n",
       "0              NaN                    1            1               2381060   \n",
       "1              NaN                    1            1               -665480   \n",
       "2       2016-03-11                    1            1                     0   \n",
       "3              NaN                    2            2                     0   \n",
       "4              NaN                    2            2                     0   \n",
       "..             ...                  ...          ...                   ...   \n",
       "95             NaN                    1            1               1120560   \n",
       "96             NaN                    1            1                696920   \n",
       "97             NaN                    1            1                200000   \n",
       "98             NaN                    1            1                306410   \n",
       "99             NaN                    1            1                499480   \n",
       "\n",
       "    quaterly_rating  Attrition  \n",
       "0                 2          0  \n",
       "1                 2          0  \n",
       "2                 2          1  \n",
       "3                 1          0  \n",
       "4                 1          0  \n",
       "..              ...        ...  \n",
       "95                4          0  \n",
       "96                4          0  \n",
       "97                3          0  \n",
       "98                3          0  \n",
       "99                3          0  \n",
       "\n",
       "[100 rows x 14 columns]"
      ]
     },
     "execution_count": 19,
     "metadata": {},
     "output_type": "execute_result"
    }
   ],
   "source": [
    "train2.head(100)"
   ]
  },
  {
   "cell_type": "code",
   "execution_count": 20,
   "id": "c3c3de8a",
   "metadata": {},
   "outputs": [],
   "source": [
    "train2['MMM-YY']=pd.to_datetime(train2['MMM-YY'],dayfirst=True)\n",
    "train2['Dateofjoining']=pd.to_datetime(train2['Dateofjoining'],dayfirst=True)"
   ]
  },
  {
   "cell_type": "code",
   "execution_count": 21,
   "id": "0a3bf999",
   "metadata": {},
   "outputs": [
    {
     "name": "stdout",
     "output_type": "stream",
     "text": [
      "<class 'pandas.core.frame.DataFrame'>\n",
      "RangeIndex: 19104 entries, 0 to 19103\n",
      "Data columns (total 14 columns):\n",
      " #   Column                Non-Null Count  Dtype         \n",
      "---  ------                --------------  -----         \n",
      " 0   MMM-YY                19104 non-null  datetime64[ns]\n",
      " 1   Emp_ID                19104 non-null  int64         \n",
      " 2   Age                   19104 non-null  int64         \n",
      " 3   Gender                19104 non-null  object        \n",
      " 4   City                  19104 non-null  object        \n",
      " 5   Education_Level       19104 non-null  object        \n",
      " 6   Salary                19104 non-null  int64         \n",
      " 7   Dateofjoining         19104 non-null  datetime64[ns]\n",
      " 8   LastWorkingDate       1616 non-null   object        \n",
      " 9   joining_designation   19104 non-null  int64         \n",
      " 10  Designation           19104 non-null  int64         \n",
      " 11  total_business_value  19104 non-null  int64         \n",
      " 12  quaterly_rating       19104 non-null  int64         \n",
      " 13  Attrition             19104 non-null  int64         \n",
      "dtypes: datetime64[ns](2), int64(8), object(4)\n",
      "memory usage: 2.0+ MB\n"
     ]
    }
   ],
   "source": [
    "train2.info()"
   ]
  },
  {
   "cell_type": "code",
   "execution_count": 22,
   "id": "a4580598",
   "metadata": {},
   "outputs": [],
   "source": [
    "train2['term_duration']=train2['MMM-YY'] - train2['Dateofjoining']"
   ]
  },
  {
   "cell_type": "code",
   "execution_count": 23,
   "id": "fdca7ba4",
   "metadata": {},
   "outputs": [
    {
     "data": {
      "text/html": [
       "<div>\n",
       "<style scoped>\n",
       "    .dataframe tbody tr th:only-of-type {\n",
       "        vertical-align: middle;\n",
       "    }\n",
       "\n",
       "    .dataframe tbody tr th {\n",
       "        vertical-align: top;\n",
       "    }\n",
       "\n",
       "    .dataframe thead th {\n",
       "        text-align: right;\n",
       "    }\n",
       "</style>\n",
       "<table border=\"1\" class=\"dataframe\">\n",
       "  <thead>\n",
       "    <tr style=\"text-align: right;\">\n",
       "      <th></th>\n",
       "      <th>MMM-YY</th>\n",
       "      <th>Emp_ID</th>\n",
       "      <th>Age</th>\n",
       "      <th>Gender</th>\n",
       "      <th>City</th>\n",
       "      <th>Education_Level</th>\n",
       "      <th>Salary</th>\n",
       "      <th>Dateofjoining</th>\n",
       "      <th>LastWorkingDate</th>\n",
       "      <th>joining_designation</th>\n",
       "      <th>Designation</th>\n",
       "      <th>total_business_value</th>\n",
       "      <th>quaterly_rating</th>\n",
       "      <th>Attrition</th>\n",
       "      <th>term_duration</th>\n",
       "    </tr>\n",
       "  </thead>\n",
       "  <tbody>\n",
       "    <tr>\n",
       "      <th>0</th>\n",
       "      <td>2016-01-01</td>\n",
       "      <td>1</td>\n",
       "      <td>28</td>\n",
       "      <td>Male</td>\n",
       "      <td>C23</td>\n",
       "      <td>Master</td>\n",
       "      <td>57387</td>\n",
       "      <td>2015-12-24</td>\n",
       "      <td>NaN</td>\n",
       "      <td>1</td>\n",
       "      <td>1</td>\n",
       "      <td>2381060</td>\n",
       "      <td>2</td>\n",
       "      <td>0</td>\n",
       "      <td>8 days</td>\n",
       "    </tr>\n",
       "    <tr>\n",
       "      <th>1</th>\n",
       "      <td>2016-02-01</td>\n",
       "      <td>1</td>\n",
       "      <td>28</td>\n",
       "      <td>Male</td>\n",
       "      <td>C23</td>\n",
       "      <td>Master</td>\n",
       "      <td>57387</td>\n",
       "      <td>2015-12-24</td>\n",
       "      <td>NaN</td>\n",
       "      <td>1</td>\n",
       "      <td>1</td>\n",
       "      <td>-665480</td>\n",
       "      <td>2</td>\n",
       "      <td>0</td>\n",
       "      <td>39 days</td>\n",
       "    </tr>\n",
       "    <tr>\n",
       "      <th>2</th>\n",
       "      <td>2016-03-01</td>\n",
       "      <td>1</td>\n",
       "      <td>28</td>\n",
       "      <td>Male</td>\n",
       "      <td>C23</td>\n",
       "      <td>Master</td>\n",
       "      <td>57387</td>\n",
       "      <td>2015-12-24</td>\n",
       "      <td>2016-03-11</td>\n",
       "      <td>1</td>\n",
       "      <td>1</td>\n",
       "      <td>0</td>\n",
       "      <td>2</td>\n",
       "      <td>1</td>\n",
       "      <td>68 days</td>\n",
       "    </tr>\n",
       "    <tr>\n",
       "      <th>3</th>\n",
       "      <td>2017-11-01</td>\n",
       "      <td>2</td>\n",
       "      <td>31</td>\n",
       "      <td>Male</td>\n",
       "      <td>C7</td>\n",
       "      <td>Master</td>\n",
       "      <td>67016</td>\n",
       "      <td>2017-11-06</td>\n",
       "      <td>NaN</td>\n",
       "      <td>2</td>\n",
       "      <td>2</td>\n",
       "      <td>0</td>\n",
       "      <td>1</td>\n",
       "      <td>0</td>\n",
       "      <td>-5 days</td>\n",
       "    </tr>\n",
       "    <tr>\n",
       "      <th>4</th>\n",
       "      <td>2017-12-01</td>\n",
       "      <td>2</td>\n",
       "      <td>31</td>\n",
       "      <td>Male</td>\n",
       "      <td>C7</td>\n",
       "      <td>Master</td>\n",
       "      <td>67016</td>\n",
       "      <td>2017-11-06</td>\n",
       "      <td>NaN</td>\n",
       "      <td>2</td>\n",
       "      <td>2</td>\n",
       "      <td>0</td>\n",
       "      <td>1</td>\n",
       "      <td>0</td>\n",
       "      <td>25 days</td>\n",
       "    </tr>\n",
       "  </tbody>\n",
       "</table>\n",
       "</div>"
      ],
      "text/plain": [
       "      MMM-YY  Emp_ID  Age Gender City Education_Level  Salary Dateofjoining  \\\n",
       "0 2016-01-01       1   28   Male  C23          Master   57387    2015-12-24   \n",
       "1 2016-02-01       1   28   Male  C23          Master   57387    2015-12-24   \n",
       "2 2016-03-01       1   28   Male  C23          Master   57387    2015-12-24   \n",
       "3 2017-11-01       2   31   Male   C7          Master   67016    2017-11-06   \n",
       "4 2017-12-01       2   31   Male   C7          Master   67016    2017-11-06   \n",
       "\n",
       "  LastWorkingDate  joining_designation  Designation  total_business_value  \\\n",
       "0             NaN                    1            1               2381060   \n",
       "1             NaN                    1            1               -665480   \n",
       "2      2016-03-11                    1            1                     0   \n",
       "3             NaN                    2            2                     0   \n",
       "4             NaN                    2            2                     0   \n",
       "\n",
       "   quaterly_rating  Attrition term_duration  \n",
       "0                2          0        8 days  \n",
       "1                2          0       39 days  \n",
       "2                2          1       68 days  \n",
       "3                1          0       -5 days  \n",
       "4                1          0       25 days  "
      ]
     },
     "execution_count": 23,
     "metadata": {},
     "output_type": "execute_result"
    }
   ],
   "source": [
    "train2.head(5)"
   ]
  },
  {
   "cell_type": "code",
   "execution_count": null,
   "id": "685e6640",
   "metadata": {},
   "outputs": [],
   "source": []
  },
  {
   "cell_type": "code",
   "execution_count": 24,
   "id": "96f3d130",
   "metadata": {},
   "outputs": [],
   "source": [
    "from datetime import timedelta\n",
    "train2['term_duration']=(train2.term_duration)/timedelta(days=365)"
   ]
  },
  {
   "cell_type": "code",
   "execution_count": 25,
   "id": "5806d1b7",
   "metadata": {},
   "outputs": [
    {
     "data": {
      "text/html": [
       "<div>\n",
       "<style scoped>\n",
       "    .dataframe tbody tr th:only-of-type {\n",
       "        vertical-align: middle;\n",
       "    }\n",
       "\n",
       "    .dataframe tbody tr th {\n",
       "        vertical-align: top;\n",
       "    }\n",
       "\n",
       "    .dataframe thead th {\n",
       "        text-align: right;\n",
       "    }\n",
       "</style>\n",
       "<table border=\"1\" class=\"dataframe\">\n",
       "  <thead>\n",
       "    <tr style=\"text-align: right;\">\n",
       "      <th></th>\n",
       "      <th>MMM-YY</th>\n",
       "      <th>Emp_ID</th>\n",
       "      <th>Age</th>\n",
       "      <th>Gender</th>\n",
       "      <th>City</th>\n",
       "      <th>Education_Level</th>\n",
       "      <th>Salary</th>\n",
       "      <th>Dateofjoining</th>\n",
       "      <th>LastWorkingDate</th>\n",
       "      <th>joining_designation</th>\n",
       "      <th>Designation</th>\n",
       "      <th>total_business_value</th>\n",
       "      <th>quaterly_rating</th>\n",
       "      <th>Attrition</th>\n",
       "      <th>term_duration</th>\n",
       "    </tr>\n",
       "  </thead>\n",
       "  <tbody>\n",
       "    <tr>\n",
       "      <th>0</th>\n",
       "      <td>2016-01-01</td>\n",
       "      <td>1</td>\n",
       "      <td>28</td>\n",
       "      <td>Male</td>\n",
       "      <td>C23</td>\n",
       "      <td>Master</td>\n",
       "      <td>57387</td>\n",
       "      <td>2015-12-24</td>\n",
       "      <td>NaN</td>\n",
       "      <td>1</td>\n",
       "      <td>1</td>\n",
       "      <td>2381060</td>\n",
       "      <td>2</td>\n",
       "      <td>0</td>\n",
       "      <td>0.021918</td>\n",
       "    </tr>\n",
       "    <tr>\n",
       "      <th>1</th>\n",
       "      <td>2016-02-01</td>\n",
       "      <td>1</td>\n",
       "      <td>28</td>\n",
       "      <td>Male</td>\n",
       "      <td>C23</td>\n",
       "      <td>Master</td>\n",
       "      <td>57387</td>\n",
       "      <td>2015-12-24</td>\n",
       "      <td>NaN</td>\n",
       "      <td>1</td>\n",
       "      <td>1</td>\n",
       "      <td>-665480</td>\n",
       "      <td>2</td>\n",
       "      <td>0</td>\n",
       "      <td>0.106849</td>\n",
       "    </tr>\n",
       "    <tr>\n",
       "      <th>2</th>\n",
       "      <td>2016-03-01</td>\n",
       "      <td>1</td>\n",
       "      <td>28</td>\n",
       "      <td>Male</td>\n",
       "      <td>C23</td>\n",
       "      <td>Master</td>\n",
       "      <td>57387</td>\n",
       "      <td>2015-12-24</td>\n",
       "      <td>2016-03-11</td>\n",
       "      <td>1</td>\n",
       "      <td>1</td>\n",
       "      <td>0</td>\n",
       "      <td>2</td>\n",
       "      <td>1</td>\n",
       "      <td>0.186301</td>\n",
       "    </tr>\n",
       "    <tr>\n",
       "      <th>3</th>\n",
       "      <td>2017-11-01</td>\n",
       "      <td>2</td>\n",
       "      <td>31</td>\n",
       "      <td>Male</td>\n",
       "      <td>C7</td>\n",
       "      <td>Master</td>\n",
       "      <td>67016</td>\n",
       "      <td>2017-11-06</td>\n",
       "      <td>NaN</td>\n",
       "      <td>2</td>\n",
       "      <td>2</td>\n",
       "      <td>0</td>\n",
       "      <td>1</td>\n",
       "      <td>0</td>\n",
       "      <td>-0.013699</td>\n",
       "    </tr>\n",
       "    <tr>\n",
       "      <th>4</th>\n",
       "      <td>2017-12-01</td>\n",
       "      <td>2</td>\n",
       "      <td>31</td>\n",
       "      <td>Male</td>\n",
       "      <td>C7</td>\n",
       "      <td>Master</td>\n",
       "      <td>67016</td>\n",
       "      <td>2017-11-06</td>\n",
       "      <td>NaN</td>\n",
       "      <td>2</td>\n",
       "      <td>2</td>\n",
       "      <td>0</td>\n",
       "      <td>1</td>\n",
       "      <td>0</td>\n",
       "      <td>0.068493</td>\n",
       "    </tr>\n",
       "  </tbody>\n",
       "</table>\n",
       "</div>"
      ],
      "text/plain": [
       "      MMM-YY  Emp_ID  Age Gender City Education_Level  Salary Dateofjoining  \\\n",
       "0 2016-01-01       1   28   Male  C23          Master   57387    2015-12-24   \n",
       "1 2016-02-01       1   28   Male  C23          Master   57387    2015-12-24   \n",
       "2 2016-03-01       1   28   Male  C23          Master   57387    2015-12-24   \n",
       "3 2017-11-01       2   31   Male   C7          Master   67016    2017-11-06   \n",
       "4 2017-12-01       2   31   Male   C7          Master   67016    2017-11-06   \n",
       "\n",
       "  LastWorkingDate  joining_designation  Designation  total_business_value  \\\n",
       "0             NaN                    1            1               2381060   \n",
       "1             NaN                    1            1               -665480   \n",
       "2      2016-03-11                    1            1                     0   \n",
       "3             NaN                    2            2                     0   \n",
       "4             NaN                    2            2                     0   \n",
       "\n",
       "   quaterly_rating  Attrition  term_duration  \n",
       "0                2          0       0.021918  \n",
       "1                2          0       0.106849  \n",
       "2                2          1       0.186301  \n",
       "3                1          0      -0.013699  \n",
       "4                1          0       0.068493  "
      ]
     },
     "execution_count": 25,
     "metadata": {},
     "output_type": "execute_result"
    }
   ],
   "source": [
    "train2.head()"
   ]
  },
  {
   "cell_type": "code",
   "execution_count": null,
   "id": "78425d1a",
   "metadata": {},
   "outputs": [],
   "source": []
  },
  {
   "cell_type": "code",
   "execution_count": 26,
   "id": "100fb409",
   "metadata": {},
   "outputs": [
    {
     "data": {
      "text/plain": [
       "<AxesSubplot:xlabel='term_duration'>"
      ]
     },
     "execution_count": 26,
     "metadata": {},
     "output_type": "execute_result"
    },
    {
     "data": {
      "image/png": "[encoded data removed]",
      "text/plain": [
       "<Figure size 576x360 with 1 Axes>"
      ]
     },
     "metadata": {},
     "output_type": "display_data"
    }
   ],
   "source": [
    "plt.figure(figsize=(8,5))\n",
    "sns.boxplot('term_duration',data=train2)"
   ]
  },
  {
   "cell_type": "markdown",
   "id": "9faefc21",
   "metadata": {},
   "source": [
    "* As we can see ther is an outlier in term duration as it cant be negative"
   ]
  },
  {
   "cell_type": "code",
   "execution_count": 27,
   "id": "d0652b9e",
   "metadata": {},
   "outputs": [],
   "source": [
    "train3=train2.drop(['MMM-YY','Dateofjoining','LastWorkingDate'],axis='columns')"
   ]
  },
  {
   "cell_type": "code",
   "execution_count": 28,
   "id": "b304b807",
   "metadata": {},
   "outputs": [
    {
     "data": {
      "text/html": [
       "<div>\n",
       "<style scoped>\n",
       "    .dataframe tbody tr th:only-of-type {\n",
       "        vertical-align: middle;\n",
       "    }\n",
       "\n",
       "    .dataframe tbody tr th {\n",
       "        vertical-align: top;\n",
       "    }\n",
       "\n",
       "    .dataframe thead th {\n",
       "        text-align: right;\n",
       "    }\n",
       "</style>\n",
       "<table border=\"1\" class=\"dataframe\">\n",
       "  <thead>\n",
       "    <tr style=\"text-align: right;\">\n",
       "      <th></th>\n",
       "      <th>Emp_ID</th>\n",
       "      <th>Age</th>\n",
       "      <th>Gender</th>\n",
       "      <th>City</th>\n",
       "      <th>Education_Level</th>\n",
       "      <th>Salary</th>\n",
       "      <th>joining_designation</th>\n",
       "      <th>Designation</th>\n",
       "      <th>total_business_value</th>\n",
       "      <th>quaterly_rating</th>\n",
       "      <th>Attrition</th>\n",
       "      <th>term_duration</th>\n",
       "    </tr>\n",
       "  </thead>\n",
       "  <tbody>\n",
       "    <tr>\n",
       "      <th>0</th>\n",
       "      <td>1</td>\n",
       "      <td>28</td>\n",
       "      <td>Male</td>\n",
       "      <td>C23</td>\n",
       "      <td>Master</td>\n",
       "      <td>57387</td>\n",
       "      <td>1</td>\n",
       "      <td>1</td>\n",
       "      <td>2381060</td>\n",
       "      <td>2</td>\n",
       "      <td>0</td>\n",
       "      <td>0.021918</td>\n",
       "    </tr>\n",
       "    <tr>\n",
       "      <th>1</th>\n",
       "      <td>1</td>\n",
       "      <td>28</td>\n",
       "      <td>Male</td>\n",
       "      <td>C23</td>\n",
       "      <td>Master</td>\n",
       "      <td>57387</td>\n",
       "      <td>1</td>\n",
       "      <td>1</td>\n",
       "      <td>-665480</td>\n",
       "      <td>2</td>\n",
       "      <td>0</td>\n",
       "      <td>0.106849</td>\n",
       "    </tr>\n",
       "    <tr>\n",
       "      <th>2</th>\n",
       "      <td>1</td>\n",
       "      <td>28</td>\n",
       "      <td>Male</td>\n",
       "      <td>C23</td>\n",
       "      <td>Master</td>\n",
       "      <td>57387</td>\n",
       "      <td>1</td>\n",
       "      <td>1</td>\n",
       "      <td>0</td>\n",
       "      <td>2</td>\n",
       "      <td>1</td>\n",
       "      <td>0.186301</td>\n",
       "    </tr>\n",
       "    <tr>\n",
       "      <th>3</th>\n",
       "      <td>2</td>\n",
       "      <td>31</td>\n",
       "      <td>Male</td>\n",
       "      <td>C7</td>\n",
       "      <td>Master</td>\n",
       "      <td>67016</td>\n",
       "      <td>2</td>\n",
       "      <td>2</td>\n",
       "      <td>0</td>\n",
       "      <td>1</td>\n",
       "      <td>0</td>\n",
       "      <td>-0.013699</td>\n",
       "    </tr>\n",
       "    <tr>\n",
       "      <th>4</th>\n",
       "      <td>2</td>\n",
       "      <td>31</td>\n",
       "      <td>Male</td>\n",
       "      <td>C7</td>\n",
       "      <td>Master</td>\n",
       "      <td>67016</td>\n",
       "      <td>2</td>\n",
       "      <td>2</td>\n",
       "      <td>0</td>\n",
       "      <td>1</td>\n",
       "      <td>0</td>\n",
       "      <td>0.068493</td>\n",
       "    </tr>\n",
       "  </tbody>\n",
       "</table>\n",
       "</div>"
      ],
      "text/plain": [
       "   Emp_ID  Age Gender City Education_Level  Salary  joining_designation  \\\n",
       "0       1   28   Male  C23          Master   57387                    1   \n",
       "1       1   28   Male  C23          Master   57387                    1   \n",
       "2       1   28   Male  C23          Master   57387                    1   \n",
       "3       2   31   Male   C7          Master   67016                    2   \n",
       "4       2   31   Male   C7          Master   67016                    2   \n",
       "\n",
       "   Designation  total_business_value  quaterly_rating  Attrition  \\\n",
       "0            1               2381060                2          0   \n",
       "1            1               -665480                2          0   \n",
       "2            1                     0                2          1   \n",
       "3            2                     0                1          0   \n",
       "4            2                     0                1          0   \n",
       "\n",
       "   term_duration  \n",
       "0       0.021918  \n",
       "1       0.106849  \n",
       "2       0.186301  \n",
       "3      -0.013699  \n",
       "4       0.068493  "
      ]
     },
     "execution_count": 28,
     "metadata": {},
     "output_type": "execute_result"
    }
   ],
   "source": [
    "train3.head()"
   ]
  },
  {
   "cell_type": "code",
   "execution_count": 29,
   "id": "ac51adac",
   "metadata": {},
   "outputs": [],
   "source": [
    "train4=train3[~(train3['term_duration']<0)]"
   ]
  },
  {
   "cell_type": "code",
   "execution_count": 30,
   "id": "79221519",
   "metadata": {},
   "outputs": [
    {
     "data": {
      "text/html": [
       "<div>\n",
       "<style scoped>\n",
       "    .dataframe tbody tr th:only-of-type {\n",
       "        vertical-align: middle;\n",
       "    }\n",
       "\n",
       "    .dataframe tbody tr th {\n",
       "        vertical-align: top;\n",
       "    }\n",
       "\n",
       "    .dataframe thead th {\n",
       "        text-align: right;\n",
       "    }\n",
       "</style>\n",
       "<table border=\"1\" class=\"dataframe\">\n",
       "  <thead>\n",
       "    <tr style=\"text-align: right;\">\n",
       "      <th></th>\n",
       "      <th>Emp_ID</th>\n",
       "      <th>Age</th>\n",
       "      <th>Gender</th>\n",
       "      <th>City</th>\n",
       "      <th>Education_Level</th>\n",
       "      <th>Salary</th>\n",
       "      <th>joining_designation</th>\n",
       "      <th>Designation</th>\n",
       "      <th>total_business_value</th>\n",
       "      <th>quaterly_rating</th>\n",
       "      <th>Attrition</th>\n",
       "      <th>term_duration</th>\n",
       "    </tr>\n",
       "  </thead>\n",
       "  <tbody>\n",
       "    <tr>\n",
       "      <th>0</th>\n",
       "      <td>1</td>\n",
       "      <td>28</td>\n",
       "      <td>Male</td>\n",
       "      <td>C23</td>\n",
       "      <td>Master</td>\n",
       "      <td>57387</td>\n",
       "      <td>1</td>\n",
       "      <td>1</td>\n",
       "      <td>2381060</td>\n",
       "      <td>2</td>\n",
       "      <td>0</td>\n",
       "      <td>0.021918</td>\n",
       "    </tr>\n",
       "    <tr>\n",
       "      <th>1</th>\n",
       "      <td>1</td>\n",
       "      <td>28</td>\n",
       "      <td>Male</td>\n",
       "      <td>C23</td>\n",
       "      <td>Master</td>\n",
       "      <td>57387</td>\n",
       "      <td>1</td>\n",
       "      <td>1</td>\n",
       "      <td>-665480</td>\n",
       "      <td>2</td>\n",
       "      <td>0</td>\n",
       "      <td>0.106849</td>\n",
       "    </tr>\n",
       "    <tr>\n",
       "      <th>2</th>\n",
       "      <td>1</td>\n",
       "      <td>28</td>\n",
       "      <td>Male</td>\n",
       "      <td>C23</td>\n",
       "      <td>Master</td>\n",
       "      <td>57387</td>\n",
       "      <td>1</td>\n",
       "      <td>1</td>\n",
       "      <td>0</td>\n",
       "      <td>2</td>\n",
       "      <td>1</td>\n",
       "      <td>0.186301</td>\n",
       "    </tr>\n",
       "    <tr>\n",
       "      <th>4</th>\n",
       "      <td>2</td>\n",
       "      <td>31</td>\n",
       "      <td>Male</td>\n",
       "      <td>C7</td>\n",
       "      <td>Master</td>\n",
       "      <td>67016</td>\n",
       "      <td>2</td>\n",
       "      <td>2</td>\n",
       "      <td>0</td>\n",
       "      <td>1</td>\n",
       "      <td>0</td>\n",
       "      <td>0.068493</td>\n",
       "    </tr>\n",
       "    <tr>\n",
       "      <th>6</th>\n",
       "      <td>4</td>\n",
       "      <td>43</td>\n",
       "      <td>Male</td>\n",
       "      <td>C13</td>\n",
       "      <td>Master</td>\n",
       "      <td>65603</td>\n",
       "      <td>2</td>\n",
       "      <td>2</td>\n",
       "      <td>0</td>\n",
       "      <td>1</td>\n",
       "      <td>0</td>\n",
       "      <td>0.068493</td>\n",
       "    </tr>\n",
       "  </tbody>\n",
       "</table>\n",
       "</div>"
      ],
      "text/plain": [
       "   Emp_ID  Age Gender City Education_Level  Salary  joining_designation  \\\n",
       "0       1   28   Male  C23          Master   57387                    1   \n",
       "1       1   28   Male  C23          Master   57387                    1   \n",
       "2       1   28   Male  C23          Master   57387                    1   \n",
       "4       2   31   Male   C7          Master   67016                    2   \n",
       "6       4   43   Male  C13          Master   65603                    2   \n",
       "\n",
       "   Designation  total_business_value  quaterly_rating  Attrition  \\\n",
       "0            1               2381060                2          0   \n",
       "1            1               -665480                2          0   \n",
       "2            1                     0                2          1   \n",
       "4            2                     0                1          0   \n",
       "6            2                     0                1          0   \n",
       "\n",
       "   term_duration  \n",
       "0       0.021918  \n",
       "1       0.106849  \n",
       "2       0.186301  \n",
       "4       0.068493  \n",
       "6       0.068493  "
      ]
     },
     "execution_count": 30,
     "metadata": {},
     "output_type": "execute_result"
    }
   ],
   "source": [
    "train4.head(5)"
   ]
  },
  {
   "cell_type": "code",
   "execution_count": 31,
   "id": "8ea39815",
   "metadata": {},
   "outputs": [
    {
     "data": {
      "text/plain": [
       "<AxesSubplot:xlabel='term_duration'>"
      ]
     },
     "execution_count": 31,
     "metadata": {},
     "output_type": "execute_result"
    },
    {
     "data": {
      "image/png": "[encoded data removed]",
      "text/plain": [
       "<Figure size 576x360 with 1 Axes>"
      ]
     },
     "metadata": {},
     "output_type": "display_data"
    }
   ],
   "source": [
    "plt.figure(figsize=(8,5))\n",
    "sns.boxplot('term_duration',data=train4)"
   ]
  },
  {
   "cell_type": "code",
   "execution_count": 32,
   "id": "dbd3d460",
   "metadata": {},
   "outputs": [
    {
     "data": {
      "text/html": [
       "<div>\n",
       "<style scoped>\n",
       "    .dataframe tbody tr th:only-of-type {\n",
       "        vertical-align: middle;\n",
       "    }\n",
       "\n",
       "    .dataframe tbody tr th {\n",
       "        vertical-align: top;\n",
       "    }\n",
       "\n",
       "    .dataframe thead th {\n",
       "        text-align: right;\n",
       "    }\n",
       "</style>\n",
       "<table border=\"1\" class=\"dataframe\">\n",
       "  <thead>\n",
       "    <tr style=\"text-align: right;\">\n",
       "      <th></th>\n",
       "      <th>Emp_ID</th>\n",
       "    </tr>\n",
       "  </thead>\n",
       "  <tbody>\n",
       "    <tr>\n",
       "      <th>0</th>\n",
       "      <td>394</td>\n",
       "    </tr>\n",
       "    <tr>\n",
       "      <th>1</th>\n",
       "      <td>173</td>\n",
       "    </tr>\n",
       "    <tr>\n",
       "      <th>2</th>\n",
       "      <td>1090</td>\n",
       "    </tr>\n",
       "    <tr>\n",
       "      <th>3</th>\n",
       "      <td>840</td>\n",
       "    </tr>\n",
       "    <tr>\n",
       "      <th>4</th>\n",
       "      <td>308</td>\n",
       "    </tr>\n",
       "  </tbody>\n",
       "</table>\n",
       "</div>"
      ],
      "text/plain": [
       "   Emp_ID\n",
       "0     394\n",
       "1     173\n",
       "2    1090\n",
       "3     840\n",
       "4     308"
      ]
     },
     "execution_count": 32,
     "metadata": {},
     "output_type": "execute_result"
    }
   ],
   "source": [
    "test.head()"
   ]
  },
  {
   "cell_type": "code",
   "execution_count": 33,
   "id": "207d5671",
   "metadata": {},
   "outputs": [
    {
     "data": {
      "text/plain": [
       "array([   1,    2,    4, ..., 2786, 2787, 2788], dtype=int64)"
      ]
     },
     "execution_count": 33,
     "metadata": {},
     "output_type": "execute_result"
    }
   ],
   "source": [
    "train.Emp_ID.unique()"
   ]
  },
  {
   "cell_type": "markdown",
   "id": "3e228b7d",
   "metadata": {},
   "source": [
    "## Step 4: Exploring Data Analysis"
   ]
  },
  {
   "cell_type": "markdown",
   "id": "075d3095",
   "metadata": {},
   "source": [
    "## Visualizing Distribution of Numerical Columns through Histogram"
   ]
  },
  {
   "cell_type": "code",
   "execution_count": 34,
   "id": "6f38635e",
   "metadata": {},
   "outputs": [
    {
     "data": {
      "image/png": "[encoded data removed]",
      "text/plain": [
       "<Figure size 1080x2520 with 27 Axes>"
      ]
     },
     "metadata": {},
     "output_type": "display_data"
    }
   ],
   "source": [
    "num_cols = train4.select_dtypes(include = np.number)\n",
    "a = num_cols[num_cols.columns].hist(bins=15, figsize=(15,35), layout=(9,3),color = 'red',alpha=0.6)"
   ]
  },
  {
   "cell_type": "code",
   "execution_count": 35,
   "id": "9e596939",
   "metadata": {},
   "outputs": [
    {
     "data": {
      "text/plain": [
       "count    18064.000000\n",
       "mean        34.801484\n",
       "std          6.302740\n",
       "min         21.000000\n",
       "25%         30.000000\n",
       "50%         34.000000\n",
       "75%         39.000000\n",
       "max         58.000000\n",
       "Name: Age, dtype: float64"
      ]
     },
     "execution_count": 35,
     "metadata": {},
     "output_type": "execute_result"
    }
   ],
   "source": [
    "train4.Age.describe()"
   ]
  },
  {
   "cell_type": "markdown",
   "id": "e9fa58c0",
   "metadata": {},
   "source": [
    "* Age: Data set has majority of employees in the age group of 28-41."
   ]
  },
  {
   "cell_type": "code",
   "execution_count": 36,
   "id": "396f0918",
   "metadata": {},
   "outputs": [
    {
     "data": {
      "text/plain": [
       "count     18064.000000\n",
       "mean      66126.680027\n",
       "std       31102.688907\n",
       "min       10747.000000\n",
       "25%       42601.000000\n",
       "50%       60417.000000\n",
       "75%       84737.000000\n",
       "max      188418.000000\n",
       "Name: Salary, dtype: float64"
      ]
     },
     "execution_count": 36,
     "metadata": {},
     "output_type": "execute_result"
    }
   ],
   "source": [
    "train4.Salary.describe()"
   ]
  },
  {
   "cell_type": "markdown",
   "id": "17e4eab1",
   "metadata": {},
   "source": [
    "* Salary:Data set has majority of employees salary in the range of 35000 - 95000"
   ]
  },
  {
   "cell_type": "markdown",
   "id": "f3718d70",
   "metadata": {},
   "source": [
    "* Joining Designation shows company hires mostly entry level candidates(1) & some intermediate level candidates(2 & 3) & very few higher management candidates(4 & 5)."
   ]
  },
  {
   "cell_type": "markdown",
   "id": "e82fcd1c",
   "metadata": {},
   "source": [
    "* Comparing joing designation & current designation histograph it can be seen that candidates has been promoted to higher posts over the course of time."
   ]
  },
  {
   "cell_type": "code",
   "execution_count": 37,
   "id": "a32f7df1",
   "metadata": {},
   "outputs": [
    {
     "name": "stdout",
     "output_type": "stream",
     "text": [
      "0         5485\n",
      "200000     287\n",
      "250000     148\n",
      "500000     131\n",
      "300000     106\n",
      "          ... \n",
      "275330       1\n",
      "820160       1\n",
      "203040       1\n",
      "547270       1\n",
      "448370       1\n",
      "Name: total_business_value, Length: 10164, dtype: int64\n"
     ]
    }
   ],
   "source": [
    " print(train4.total_business_value.value_counts())"
   ]
  },
  {
   "cell_type": "code",
   "execution_count": 38,
   "id": "81d6dd8c",
   "metadata": {},
   "outputs": [
    {
     "data": {
      "text/plain": [
       "<AxesSubplot:xlabel='total_business_value'>"
      ]
     },
     "execution_count": 38,
     "metadata": {},
     "output_type": "execute_result"
    },
    {
     "data": {
      "image/png": "[encoded data removed]",
      "text/plain": [
       "<Figure size 576x360 with 1 Axes>"
      ]
     },
     "metadata": {},
     "output_type": "display_data"
    }
   ],
   "source": [
    "plt.figure(figsize=(8,5))\n",
    "sns.boxplot('total_business_value',data=train4)"
   ]
  },
  {
   "cell_type": "markdown",
   "id": "5dc5974a",
   "metadata": {},
   "source": [
    "* Here from the box plot we can see most of the employees has failed to generate any business value & some is in negative."
   ]
  },
  {
   "cell_type": "markdown",
   "id": "6349cf5b",
   "metadata": {},
   "source": [
    "## Visualizing value counts of categorical columns through countplot"
   ]
  },
  {
   "cell_type": "code",
   "execution_count": 39,
   "id": "a910c3ba",
   "metadata": {},
   "outputs": [],
   "source": [
    "cat_col = train4.select_dtypes(exclude=np.number)"
   ]
  },
  {
   "cell_type": "code",
   "execution_count": 40,
   "id": "37d4757b",
   "metadata": {},
   "outputs": [
    {
     "data": {
      "text/plain": [
       "Index(['Gender', 'City', 'Education_Level'], dtype='object')"
      ]
     },
     "execution_count": 40,
     "metadata": {},
     "output_type": "execute_result"
    }
   ],
   "source": [
    "cat_col.columns"
   ]
  },
  {
   "cell_type": "code",
   "execution_count": 41,
   "id": "4f236cef",
   "metadata": {},
   "outputs": [
    {
     "data": {
      "image/png": "[encoded data removed]",
      "text/plain": [
       "<Figure size 1080x1080 with 3 Axes>"
      ]
     },
     "metadata": {},
     "output_type": "display_data"
    }
   ],
   "source": [
    "fig, ax = plt.subplots(3, 1, figsize=(15, 15))\n",
    "for variable, subplot in zip(cat_col, ax.flatten()):\n",
    "    sns.countplot(train4[variable], ax=subplot,palette = 'plasma')\n",
    "    for label in subplot.get_xticklabels():\n",
    "        label.set_rotation(90)\n",
    "plt.tight_layout()"
   ]
  },
  {
   "cell_type": "code",
   "execution_count": 42,
   "id": "efa96a49",
   "metadata": {},
   "outputs": [
    {
     "data": {
      "text/plain": [
       "(12,)"
      ]
     },
     "execution_count": 42,
     "metadata": {},
     "output_type": "execute_result"
    }
   ],
   "source": [
    "train4.columns.shape"
   ]
  },
  {
   "cell_type": "code",
   "execution_count": 43,
   "id": "c157dd1d",
   "metadata": {},
   "outputs": [
    {
     "data": {
      "text/plain": [
       "(3,)"
      ]
     },
     "execution_count": 43,
     "metadata": {},
     "output_type": "execute_result"
    }
   ],
   "source": [
    "cat_col.columns.shape"
   ]
  },
  {
   "cell_type": "code",
   "execution_count": 44,
   "id": "c2ef4ce7",
   "metadata": {},
   "outputs": [
    {
     "data": {
      "text/plain": [
       "(9,)"
      ]
     },
     "execution_count": 44,
     "metadata": {},
     "output_type": "execute_result"
    }
   ],
   "source": [
    "num_cols.columns.shape"
   ]
  },
  {
   "cell_type": "markdown",
   "id": "65aa06f1",
   "metadata": {},
   "source": [
    "# Create Dummy Variables[One Hot Encoding on categorical variables]"
   ]
  },
  {
   "cell_type": "code",
   "execution_count": 45,
   "id": "7a76fc84",
   "metadata": {},
   "outputs": [
    {
     "data": {
      "text/html": [
       "<div>\n",
       "<style scoped>\n",
       "    .dataframe tbody tr th:only-of-type {\n",
       "        vertical-align: middle;\n",
       "    }\n",
       "\n",
       "    .dataframe tbody tr th {\n",
       "        vertical-align: top;\n",
       "    }\n",
       "\n",
       "    .dataframe thead th {\n",
       "        text-align: right;\n",
       "    }\n",
       "</style>\n",
       "<table border=\"1\" class=\"dataframe\">\n",
       "  <thead>\n",
       "    <tr style=\"text-align: right;\">\n",
       "      <th></th>\n",
       "      <th>Gender_Female</th>\n",
       "      <th>Gender_Male</th>\n",
       "      <th>City_C1</th>\n",
       "      <th>City_C10</th>\n",
       "      <th>City_C11</th>\n",
       "      <th>City_C12</th>\n",
       "      <th>City_C13</th>\n",
       "      <th>City_C14</th>\n",
       "      <th>City_C15</th>\n",
       "      <th>City_C16</th>\n",
       "      <th>...</th>\n",
       "      <th>City_C3</th>\n",
       "      <th>City_C4</th>\n",
       "      <th>City_C5</th>\n",
       "      <th>City_C6</th>\n",
       "      <th>City_C7</th>\n",
       "      <th>City_C8</th>\n",
       "      <th>City_C9</th>\n",
       "      <th>Education_Level_Bachelor</th>\n",
       "      <th>Education_Level_College</th>\n",
       "      <th>Education_Level_Master</th>\n",
       "    </tr>\n",
       "  </thead>\n",
       "  <tbody>\n",
       "    <tr>\n",
       "      <th>0</th>\n",
       "      <td>0</td>\n",
       "      <td>1</td>\n",
       "      <td>0</td>\n",
       "      <td>0</td>\n",
       "      <td>0</td>\n",
       "      <td>0</td>\n",
       "      <td>0</td>\n",
       "      <td>0</td>\n",
       "      <td>0</td>\n",
       "      <td>0</td>\n",
       "      <td>...</td>\n",
       "      <td>0</td>\n",
       "      <td>0</td>\n",
       "      <td>0</td>\n",
       "      <td>0</td>\n",
       "      <td>0</td>\n",
       "      <td>0</td>\n",
       "      <td>0</td>\n",
       "      <td>0</td>\n",
       "      <td>0</td>\n",
       "      <td>1</td>\n",
       "    </tr>\n",
       "    <tr>\n",
       "      <th>1</th>\n",
       "      <td>0</td>\n",
       "      <td>1</td>\n",
       "      <td>0</td>\n",
       "      <td>0</td>\n",
       "      <td>0</td>\n",
       "      <td>0</td>\n",
       "      <td>0</td>\n",
       "      <td>0</td>\n",
       "      <td>0</td>\n",
       "      <td>0</td>\n",
       "      <td>...</td>\n",
       "      <td>0</td>\n",
       "      <td>0</td>\n",
       "      <td>0</td>\n",
       "      <td>0</td>\n",
       "      <td>0</td>\n",
       "      <td>0</td>\n",
       "      <td>0</td>\n",
       "      <td>0</td>\n",
       "      <td>0</td>\n",
       "      <td>1</td>\n",
       "    </tr>\n",
       "    <tr>\n",
       "      <th>2</th>\n",
       "      <td>0</td>\n",
       "      <td>1</td>\n",
       "      <td>0</td>\n",
       "      <td>0</td>\n",
       "      <td>0</td>\n",
       "      <td>0</td>\n",
       "      <td>0</td>\n",
       "      <td>0</td>\n",
       "      <td>0</td>\n",
       "      <td>0</td>\n",
       "      <td>...</td>\n",
       "      <td>0</td>\n",
       "      <td>0</td>\n",
       "      <td>0</td>\n",
       "      <td>0</td>\n",
       "      <td>0</td>\n",
       "      <td>0</td>\n",
       "      <td>0</td>\n",
       "      <td>0</td>\n",
       "      <td>0</td>\n",
       "      <td>1</td>\n",
       "    </tr>\n",
       "    <tr>\n",
       "      <th>4</th>\n",
       "      <td>0</td>\n",
       "      <td>1</td>\n",
       "      <td>0</td>\n",
       "      <td>0</td>\n",
       "      <td>0</td>\n",
       "      <td>0</td>\n",
       "      <td>0</td>\n",
       "      <td>0</td>\n",
       "      <td>0</td>\n",
       "      <td>0</td>\n",
       "      <td>...</td>\n",
       "      <td>0</td>\n",
       "      <td>0</td>\n",
       "      <td>0</td>\n",
       "      <td>0</td>\n",
       "      <td>1</td>\n",
       "      <td>0</td>\n",
       "      <td>0</td>\n",
       "      <td>0</td>\n",
       "      <td>0</td>\n",
       "      <td>1</td>\n",
       "    </tr>\n",
       "    <tr>\n",
       "      <th>6</th>\n",
       "      <td>0</td>\n",
       "      <td>1</td>\n",
       "      <td>0</td>\n",
       "      <td>0</td>\n",
       "      <td>0</td>\n",
       "      <td>0</td>\n",
       "      <td>1</td>\n",
       "      <td>0</td>\n",
       "      <td>0</td>\n",
       "      <td>0</td>\n",
       "      <td>...</td>\n",
       "      <td>0</td>\n",
       "      <td>0</td>\n",
       "      <td>0</td>\n",
       "      <td>0</td>\n",
       "      <td>0</td>\n",
       "      <td>0</td>\n",
       "      <td>0</td>\n",
       "      <td>0</td>\n",
       "      <td>0</td>\n",
       "      <td>1</td>\n",
       "    </tr>\n",
       "  </tbody>\n",
       "</table>\n",
       "<p>5 rows × 34 columns</p>\n",
       "</div>"
      ],
      "text/plain": [
       "   Gender_Female  Gender_Male  City_C1  City_C10  City_C11  City_C12  \\\n",
       "0              0            1        0         0         0         0   \n",
       "1              0            1        0         0         0         0   \n",
       "2              0            1        0         0         0         0   \n",
       "4              0            1        0         0         0         0   \n",
       "6              0            1        0         0         0         0   \n",
       "\n",
       "   City_C13  City_C14  City_C15  City_C16  ...  City_C3  City_C4  City_C5  \\\n",
       "0         0         0         0         0  ...        0        0        0   \n",
       "1         0         0         0         0  ...        0        0        0   \n",
       "2         0         0         0         0  ...        0        0        0   \n",
       "4         0         0         0         0  ...        0        0        0   \n",
       "6         1         0         0         0  ...        0        0        0   \n",
       "\n",
       "   City_C6  City_C7  City_C8  City_C9  Education_Level_Bachelor  \\\n",
       "0        0        0        0        0                         0   \n",
       "1        0        0        0        0                         0   \n",
       "2        0        0        0        0                         0   \n",
       "4        0        1        0        0                         0   \n",
       "6        0        0        0        0                         0   \n",
       "\n",
       "   Education_Level_College  Education_Level_Master  \n",
       "0                        0                       1  \n",
       "1                        0                       1  \n",
       "2                        0                       1  \n",
       "4                        0                       1  \n",
       "6                        0                       1  \n",
       "\n",
       "[5 rows x 34 columns]"
      ]
     },
     "execution_count": 45,
     "metadata": {},
     "output_type": "execute_result"
    }
   ],
   "source": [
    "cat_col_encoded=pd.get_dummies(cat_col)\n",
    "cat_col_encoded.head()"
   ]
  },
  {
   "cell_type": "code",
   "execution_count": 46,
   "id": "3eacc50c",
   "metadata": {},
   "outputs": [],
   "source": [
    "df = pd.concat([num_cols,cat_col_encoded],sort=False,axis=1)"
   ]
  },
  {
   "cell_type": "code",
   "execution_count": 47,
   "id": "d113d573",
   "metadata": {},
   "outputs": [
    {
     "data": {
      "text/plain": [
       "(18064, 43)"
      ]
     },
     "execution_count": 47,
     "metadata": {},
     "output_type": "execute_result"
    }
   ],
   "source": [
    "df.shape"
   ]
  },
  {
   "cell_type": "code",
   "execution_count": 48,
   "id": "6720a3d7",
   "metadata": {},
   "outputs": [
    {
     "data": {
      "text/html": [
       "<div>\n",
       "<style scoped>\n",
       "    .dataframe tbody tr th:only-of-type {\n",
       "        vertical-align: middle;\n",
       "    }\n",
       "\n",
       "    .dataframe tbody tr th {\n",
       "        vertical-align: top;\n",
       "    }\n",
       "\n",
       "    .dataframe thead th {\n",
       "        text-align: right;\n",
       "    }\n",
       "</style>\n",
       "<table border=\"1\" class=\"dataframe\">\n",
       "  <thead>\n",
       "    <tr style=\"text-align: right;\">\n",
       "      <th></th>\n",
       "      <th>Emp_ID</th>\n",
       "      <th>Age</th>\n",
       "      <th>Salary</th>\n",
       "      <th>joining_designation</th>\n",
       "      <th>Designation</th>\n",
       "      <th>total_business_value</th>\n",
       "      <th>quaterly_rating</th>\n",
       "      <th>Attrition</th>\n",
       "      <th>term_duration</th>\n",
       "      <th>Gender_Female</th>\n",
       "      <th>...</th>\n",
       "      <th>City_C3</th>\n",
       "      <th>City_C4</th>\n",
       "      <th>City_C5</th>\n",
       "      <th>City_C6</th>\n",
       "      <th>City_C7</th>\n",
       "      <th>City_C8</th>\n",
       "      <th>City_C9</th>\n",
       "      <th>Education_Level_Bachelor</th>\n",
       "      <th>Education_Level_College</th>\n",
       "      <th>Education_Level_Master</th>\n",
       "    </tr>\n",
       "  </thead>\n",
       "  <tbody>\n",
       "    <tr>\n",
       "      <th>0</th>\n",
       "      <td>1</td>\n",
       "      <td>28</td>\n",
       "      <td>57387</td>\n",
       "      <td>1</td>\n",
       "      <td>1</td>\n",
       "      <td>2381060</td>\n",
       "      <td>2</td>\n",
       "      <td>0</td>\n",
       "      <td>0.021918</td>\n",
       "      <td>0</td>\n",
       "      <td>...</td>\n",
       "      <td>0</td>\n",
       "      <td>0</td>\n",
       "      <td>0</td>\n",
       "      <td>0</td>\n",
       "      <td>0</td>\n",
       "      <td>0</td>\n",
       "      <td>0</td>\n",
       "      <td>0</td>\n",
       "      <td>0</td>\n",
       "      <td>1</td>\n",
       "    </tr>\n",
       "    <tr>\n",
       "      <th>1</th>\n",
       "      <td>1</td>\n",
       "      <td>28</td>\n",
       "      <td>57387</td>\n",
       "      <td>1</td>\n",
       "      <td>1</td>\n",
       "      <td>-665480</td>\n",
       "      <td>2</td>\n",
       "      <td>0</td>\n",
       "      <td>0.106849</td>\n",
       "      <td>0</td>\n",
       "      <td>...</td>\n",
       "      <td>0</td>\n",
       "      <td>0</td>\n",
       "      <td>0</td>\n",
       "      <td>0</td>\n",
       "      <td>0</td>\n",
       "      <td>0</td>\n",
       "      <td>0</td>\n",
       "      <td>0</td>\n",
       "      <td>0</td>\n",
       "      <td>1</td>\n",
       "    </tr>\n",
       "    <tr>\n",
       "      <th>2</th>\n",
       "      <td>1</td>\n",
       "      <td>28</td>\n",
       "      <td>57387</td>\n",
       "      <td>1</td>\n",
       "      <td>1</td>\n",
       "      <td>0</td>\n",
       "      <td>2</td>\n",
       "      <td>1</td>\n",
       "      <td>0.186301</td>\n",
       "      <td>0</td>\n",
       "      <td>...</td>\n",
       "      <td>0</td>\n",
       "      <td>0</td>\n",
       "      <td>0</td>\n",
       "      <td>0</td>\n",
       "      <td>0</td>\n",
       "      <td>0</td>\n",
       "      <td>0</td>\n",
       "      <td>0</td>\n",
       "      <td>0</td>\n",
       "      <td>1</td>\n",
       "    </tr>\n",
       "    <tr>\n",
       "      <th>4</th>\n",
       "      <td>2</td>\n",
       "      <td>31</td>\n",
       "      <td>67016</td>\n",
       "      <td>2</td>\n",
       "      <td>2</td>\n",
       "      <td>0</td>\n",
       "      <td>1</td>\n",
       "      <td>0</td>\n",
       "      <td>0.068493</td>\n",
       "      <td>0</td>\n",
       "      <td>...</td>\n",
       "      <td>0</td>\n",
       "      <td>0</td>\n",
       "      <td>0</td>\n",
       "      <td>0</td>\n",
       "      <td>1</td>\n",
       "      <td>0</td>\n",
       "      <td>0</td>\n",
       "      <td>0</td>\n",
       "      <td>0</td>\n",
       "      <td>1</td>\n",
       "    </tr>\n",
       "    <tr>\n",
       "      <th>6</th>\n",
       "      <td>4</td>\n",
       "      <td>43</td>\n",
       "      <td>65603</td>\n",
       "      <td>2</td>\n",
       "      <td>2</td>\n",
       "      <td>0</td>\n",
       "      <td>1</td>\n",
       "      <td>0</td>\n",
       "      <td>0.068493</td>\n",
       "      <td>0</td>\n",
       "      <td>...</td>\n",
       "      <td>0</td>\n",
       "      <td>0</td>\n",
       "      <td>0</td>\n",
       "      <td>0</td>\n",
       "      <td>0</td>\n",
       "      <td>0</td>\n",
       "      <td>0</td>\n",
       "      <td>0</td>\n",
       "      <td>0</td>\n",
       "      <td>1</td>\n",
       "    </tr>\n",
       "  </tbody>\n",
       "</table>\n",
       "<p>5 rows × 43 columns</p>\n",
       "</div>"
      ],
      "text/plain": [
       "   Emp_ID  Age  Salary  joining_designation  Designation  \\\n",
       "0       1   28   57387                    1            1   \n",
       "1       1   28   57387                    1            1   \n",
       "2       1   28   57387                    1            1   \n",
       "4       2   31   67016                    2            2   \n",
       "6       4   43   65603                    2            2   \n",
       "\n",
       "   total_business_value  quaterly_rating  Attrition  term_duration  \\\n",
       "0               2381060                2          0       0.021918   \n",
       "1               -665480                2          0       0.106849   \n",
       "2                     0                2          1       0.186301   \n",
       "4                     0                1          0       0.068493   \n",
       "6                     0                1          0       0.068493   \n",
       "\n",
       "   Gender_Female  ...  City_C3  City_C4  City_C5  City_C6  City_C7  City_C8  \\\n",
       "0              0  ...        0        0        0        0        0        0   \n",
       "1              0  ...        0        0        0        0        0        0   \n",
       "2              0  ...        0        0        0        0        0        0   \n",
       "4              0  ...        0        0        0        0        1        0   \n",
       "6              0  ...        0        0        0        0        0        0   \n",
       "\n",
       "   City_C9  Education_Level_Bachelor  Education_Level_College  \\\n",
       "0        0                         0                        0   \n",
       "1        0                         0                        0   \n",
       "2        0                         0                        0   \n",
       "4        0                         0                        0   \n",
       "6        0                         0                        0   \n",
       "\n",
       "   Education_Level_Master  \n",
       "0                       1  \n",
       "1                       1  \n",
       "2                       1  \n",
       "4                       1  \n",
       "6                       1  \n",
       "\n",
       "[5 rows x 43 columns]"
      ]
     },
     "execution_count": 48,
     "metadata": {},
     "output_type": "execute_result"
    }
   ],
   "source": [
    "df.head()"
   ]
  },
  {
   "cell_type": "markdown",
   "id": "6b397ec5",
   "metadata": {},
   "source": [
    "## Step 5: Implementing the Model"
   ]
  },
  {
   "cell_type": "code",
   "execution_count": 49,
   "id": "4b89db97",
   "metadata": {},
   "outputs": [],
   "source": [
    "# Seperate Features and Target\n",
    "X= df.drop(columns = ['Attrition'], axis=1)\n",
    "y= df['Attrition']"
   ]
  },
  {
   "cell_type": "code",
   "execution_count": 50,
   "id": "81b3a56d",
   "metadata": {},
   "outputs": [],
   "source": [
    "# 20% data as validation set\n",
    "X_train,X_valid,y_train,y_valid = train_test_split(X,y,test_size=0.2,random_state=22)"
   ]
  },
  {
   "cell_type": "code",
   "execution_count": 51,
   "id": "1fb67e5c",
   "metadata": {},
   "outputs": [],
   "source": [
    "from sklearn.linear_model import Ridge, Lasso, LinearRegression\n",
    "from sklearn.tree import DecisionTreeRegressor\n",
    "from sklearn.neighbors import KNeighborsRegressor\n",
    "from sklearn.metrics import classification_report\n",
    "\n",
    "from sklearn import metrics"
   ]
  },
  {
   "cell_type": "code",
   "execution_count": 52,
   "id": "5670d1cf",
   "metadata": {},
   "outputs": [],
   "source": [
    "algos = [LinearRegression(),  Ridge(), Lasso(),\n",
    "          KNeighborsRegressor(), DecisionTreeRegressor()]\n",
    "\n",
    "names = ['Linear Regression', 'Ridge Regression', 'Lasso Regression',\n",
    "         'K Neighbors Regressor', 'Decision Tree Regressor']\n",
    "\n",
    "rmse_list = []"
   ]
  },
  {
   "cell_type": "code",
   "execution_count": 53,
   "id": "150e1ae2",
   "metadata": {},
   "outputs": [],
   "source": [
    "\n",
    "   for name in algos:\n",
    "    model = name\n",
    "    model.fit(X_train,y_train)\n",
    "    y_pred = model.predict(X_valid)\n",
    "    MSE= metrics.mean_squared_error(y_valid,y_pred)\n",
    "    rmse = np.sqrt(MSE)\n",
    "    rmse_list.append(rmse)\n",
    "    "
   ]
  },
  {
   "cell_type": "code",
   "execution_count": 54,
   "id": "05b5bfad",
   "metadata": {},
   "outputs": [],
   "source": [
    "evaluation = pd.DataFrame({'Model': names,\n",
    "                           'RMSE': rmse_list})"
   ]
  },
  {
   "cell_type": "code",
   "execution_count": 55,
   "id": "051786ca",
   "metadata": {},
   "outputs": [
    {
     "data": {
      "text/html": [
       "<div>\n",
       "<style scoped>\n",
       "    .dataframe tbody tr th:only-of-type {\n",
       "        vertical-align: middle;\n",
       "    }\n",
       "\n",
       "    .dataframe tbody tr th {\n",
       "        vertical-align: top;\n",
       "    }\n",
       "\n",
       "    .dataframe thead th {\n",
       "        text-align: right;\n",
       "    }\n",
       "</style>\n",
       "<table border=\"1\" class=\"dataframe\">\n",
       "  <thead>\n",
       "    <tr style=\"text-align: right;\">\n",
       "      <th></th>\n",
       "      <th>Model</th>\n",
       "      <th>RMSE</th>\n",
       "    </tr>\n",
       "  </thead>\n",
       "  <tbody>\n",
       "    <tr>\n",
       "      <th>0</th>\n",
       "      <td>Linear Regression</td>\n",
       "      <td>0.274361</td>\n",
       "    </tr>\n",
       "    <tr>\n",
       "      <th>1</th>\n",
       "      <td>Ridge Regression</td>\n",
       "      <td>0.274360</td>\n",
       "    </tr>\n",
       "    <tr>\n",
       "      <th>2</th>\n",
       "      <td>Lasso Regression</td>\n",
       "      <td>0.284164</td>\n",
       "    </tr>\n",
       "    <tr>\n",
       "      <th>3</th>\n",
       "      <td>K Neighbors Regressor</td>\n",
       "      <td>0.288021</td>\n",
       "    </tr>\n",
       "    <tr>\n",
       "      <th>4</th>\n",
       "      <td>Decision Tree Regressor</td>\n",
       "      <td>0.348973</td>\n",
       "    </tr>\n",
       "  </tbody>\n",
       "</table>\n",
       "</div>"
      ],
      "text/plain": [
       "                     Model      RMSE\n",
       "0        Linear Regression  0.274361\n",
       "1         Ridge Regression  0.274360\n",
       "2         Lasso Regression  0.284164\n",
       "3    K Neighbors Regressor  0.288021\n",
       "4  Decision Tree Regressor  0.348973"
      ]
     },
     "execution_count": 55,
     "metadata": {},
     "output_type": "execute_result"
    }
   ],
   "source": [
    "evaluation"
   ]
  },
  {
   "cell_type": "code",
   "execution_count": 56,
   "id": "232814ce",
   "metadata": {},
   "outputs": [
    {
     "data": {
      "text/html": [
       "<div>\n",
       "<style scoped>\n",
       "    .dataframe tbody tr th:only-of-type {\n",
       "        vertical-align: middle;\n",
       "    }\n",
       "\n",
       "    .dataframe tbody tr th {\n",
       "        vertical-align: top;\n",
       "    }\n",
       "\n",
       "    .dataframe thead th {\n",
       "        text-align: right;\n",
       "    }\n",
       "</style>\n",
       "<table border=\"1\" class=\"dataframe\">\n",
       "  <thead>\n",
       "    <tr style=\"text-align: right;\">\n",
       "      <th></th>\n",
       "      <th>Emp_ID</th>\n",
       "    </tr>\n",
       "  </thead>\n",
       "  <tbody>\n",
       "    <tr>\n",
       "      <th>0</th>\n",
       "      <td>394</td>\n",
       "    </tr>\n",
       "    <tr>\n",
       "      <th>1</th>\n",
       "      <td>173</td>\n",
       "    </tr>\n",
       "    <tr>\n",
       "      <th>2</th>\n",
       "      <td>1090</td>\n",
       "    </tr>\n",
       "    <tr>\n",
       "      <th>3</th>\n",
       "      <td>840</td>\n",
       "    </tr>\n",
       "    <tr>\n",
       "      <th>4</th>\n",
       "      <td>308</td>\n",
       "    </tr>\n",
       "  </tbody>\n",
       "</table>\n",
       "</div>"
      ],
      "text/plain": [
       "   Emp_ID\n",
       "0     394\n",
       "1     173\n",
       "2    1090\n",
       "3     840\n",
       "4     308"
      ]
     },
     "execution_count": 56,
     "metadata": {},
     "output_type": "execute_result"
    }
   ],
   "source": [
    "test.head()"
   ]
  },
  {
   "cell_type": "code",
   "execution_count": 57,
   "id": "27a03ea8",
   "metadata": {},
   "outputs": [
    {
     "data": {
      "text/plain": [
       "array([   1,    2,    4, ..., 2786, 2787, 2788], dtype=int64)"
      ]
     },
     "execution_count": 57,
     "metadata": {},
     "output_type": "execute_result"
    }
   ],
   "source": [
    "train4.Emp_ID.unique()"
   ]
  },
  {
   "cell_type": "markdown",
   "id": "0a0d7d95",
   "metadata": {},
   "source": [
    "## Reading sample target data."
   ]
  },
  {
   "cell_type": "code",
   "execution_count": 58,
   "id": "403af295",
   "metadata": {},
   "outputs": [
    {
     "data": {
      "text/plain": [
       "Ridge()"
      ]
     },
     "execution_count": 58,
     "metadata": {},
     "output_type": "execute_result"
    }
   ],
   "source": [
    "n = pd.read_csv('sample_submission_znWiLZ4.csv')\n",
    "model= Ridge()\n",
    "model.fit(X,y)\n"
   ]
  },
  {
   "cell_type": "code",
   "execution_count": 59,
   "id": "74cb8dd7",
   "metadata": {},
   "outputs": [
    {
     "data": {
      "text/plain": [
       "394     1\n",
       "1712    1\n",
       "681     1\n",
       "801     1\n",
       "1981    1\n",
       "       ..\n",
       "532     1\n",
       "2708    1\n",
       "2050    1\n",
       "358     1\n",
       "624     1\n",
       "Name: Emp_ID, Length: 741, dtype: int64"
      ]
     },
     "execution_count": 59,
     "metadata": {},
     "output_type": "execute_result"
    }
   ],
   "source": [
    "test.Emp_ID.value_counts()"
   ]
  },
  {
   "cell_type": "code",
   "execution_count": 60,
   "id": "a6761284",
   "metadata": {},
   "outputs": [],
   "source": [
    "test1=test"
   ]
  },
  {
   "cell_type": "code",
   "execution_count": 61,
   "id": "5f06151d",
   "metadata": {},
   "outputs": [
    {
     "data": {
      "text/html": [
       "<div>\n",
       "<style scoped>\n",
       "    .dataframe tbody tr th:only-of-type {\n",
       "        vertical-align: middle;\n",
       "    }\n",
       "\n",
       "    .dataframe tbody tr th {\n",
       "        vertical-align: top;\n",
       "    }\n",
       "\n",
       "    .dataframe thead th {\n",
       "        text-align: right;\n",
       "    }\n",
       "</style>\n",
       "<table border=\"1\" class=\"dataframe\">\n",
       "  <thead>\n",
       "    <tr style=\"text-align: right;\">\n",
       "      <th></th>\n",
       "      <th>Emp_ID</th>\n",
       "    </tr>\n",
       "  </thead>\n",
       "  <tbody>\n",
       "    <tr>\n",
       "      <th>0</th>\n",
       "      <td>394</td>\n",
       "    </tr>\n",
       "    <tr>\n",
       "      <th>1</th>\n",
       "      <td>173</td>\n",
       "    </tr>\n",
       "    <tr>\n",
       "      <th>2</th>\n",
       "      <td>1090</td>\n",
       "    </tr>\n",
       "    <tr>\n",
       "      <th>3</th>\n",
       "      <td>840</td>\n",
       "    </tr>\n",
       "    <tr>\n",
       "      <th>4</th>\n",
       "      <td>308</td>\n",
       "    </tr>\n",
       "  </tbody>\n",
       "</table>\n",
       "</div>"
      ],
      "text/plain": [
       "   Emp_ID\n",
       "0     394\n",
       "1     173\n",
       "2    1090\n",
       "3     840\n",
       "4     308"
      ]
     },
     "execution_count": 61,
     "metadata": {},
     "output_type": "execute_result"
    }
   ],
   "source": [
    "test1.head()"
   ]
  },
  {
   "cell_type": "code",
   "execution_count": 62,
   "id": "445bedf6",
   "metadata": {},
   "outputs": [],
   "source": [
    "cat_coldum = traindum.select_dtypes(exclude=np.number)"
   ]
  },
  {
   "cell_type": "code",
   "execution_count": 63,
   "id": "9bf4acc4",
   "metadata": {},
   "outputs": [],
   "source": [
    "num_coldum = traindum.select_dtypes(include = np.number)"
   ]
  },
  {
   "cell_type": "code",
   "execution_count": 64,
   "id": "fba4be37",
   "metadata": {},
   "outputs": [],
   "source": [
    "cat_coldum_encoded=pd.get_dummies(cat_coldum)\n"
   ]
  },
  {
   "cell_type": "code",
   "execution_count": 65,
   "id": "3cd1d209",
   "metadata": {},
   "outputs": [
    {
     "data": {
      "text/html": [
       "<div>\n",
       "<style scoped>\n",
       "    .dataframe tbody tr th:only-of-type {\n",
       "        vertical-align: middle;\n",
       "    }\n",
       "\n",
       "    .dataframe tbody tr th {\n",
       "        vertical-align: top;\n",
       "    }\n",
       "\n",
       "    .dataframe thead th {\n",
       "        text-align: right;\n",
       "    }\n",
       "</style>\n",
       "<table border=\"1\" class=\"dataframe\">\n",
       "  <thead>\n",
       "    <tr style=\"text-align: right;\">\n",
       "      <th></th>\n",
       "      <th>MMM-YY</th>\n",
       "      <th>Dateofjoining</th>\n",
       "      <th>Gender_Female</th>\n",
       "      <th>Gender_Male</th>\n",
       "      <th>City_C1</th>\n",
       "      <th>City_C10</th>\n",
       "      <th>City_C11</th>\n",
       "      <th>City_C12</th>\n",
       "      <th>City_C13</th>\n",
       "      <th>City_C14</th>\n",
       "      <th>...</th>\n",
       "      <th>LastWorkingDate_2017-12-15</th>\n",
       "      <th>LastWorkingDate_2017-12-18</th>\n",
       "      <th>LastWorkingDate_2017-12-19</th>\n",
       "      <th>LastWorkingDate_2017-12-20</th>\n",
       "      <th>LastWorkingDate_2017-12-21</th>\n",
       "      <th>LastWorkingDate_2017-12-23</th>\n",
       "      <th>LastWorkingDate_2017-12-25</th>\n",
       "      <th>LastWorkingDate_2017-12-26</th>\n",
       "      <th>LastWorkingDate_2017-12-27</th>\n",
       "      <th>LastWorkingDate_2017-12-28</th>\n",
       "    </tr>\n",
       "  </thead>\n",
       "  <tbody>\n",
       "    <tr>\n",
       "      <th>0</th>\n",
       "      <td>2016-01-01</td>\n",
       "      <td>2015-12-24</td>\n",
       "      <td>0</td>\n",
       "      <td>1</td>\n",
       "      <td>0</td>\n",
       "      <td>0</td>\n",
       "      <td>0</td>\n",
       "      <td>0</td>\n",
       "      <td>0</td>\n",
       "      <td>0</td>\n",
       "      <td>...</td>\n",
       "      <td>0</td>\n",
       "      <td>0</td>\n",
       "      <td>0</td>\n",
       "      <td>0</td>\n",
       "      <td>0</td>\n",
       "      <td>0</td>\n",
       "      <td>0</td>\n",
       "      <td>0</td>\n",
       "      <td>0</td>\n",
       "      <td>0</td>\n",
       "    </tr>\n",
       "    <tr>\n",
       "      <th>1</th>\n",
       "      <td>2016-02-01</td>\n",
       "      <td>2015-12-24</td>\n",
       "      <td>0</td>\n",
       "      <td>1</td>\n",
       "      <td>0</td>\n",
       "      <td>0</td>\n",
       "      <td>0</td>\n",
       "      <td>0</td>\n",
       "      <td>0</td>\n",
       "      <td>0</td>\n",
       "      <td>...</td>\n",
       "      <td>0</td>\n",
       "      <td>0</td>\n",
       "      <td>0</td>\n",
       "      <td>0</td>\n",
       "      <td>0</td>\n",
       "      <td>0</td>\n",
       "      <td>0</td>\n",
       "      <td>0</td>\n",
       "      <td>0</td>\n",
       "      <td>0</td>\n",
       "    </tr>\n",
       "    <tr>\n",
       "      <th>2</th>\n",
       "      <td>2016-03-01</td>\n",
       "      <td>2015-12-24</td>\n",
       "      <td>0</td>\n",
       "      <td>1</td>\n",
       "      <td>0</td>\n",
       "      <td>0</td>\n",
       "      <td>0</td>\n",
       "      <td>0</td>\n",
       "      <td>0</td>\n",
       "      <td>0</td>\n",
       "      <td>...</td>\n",
       "      <td>0</td>\n",
       "      <td>0</td>\n",
       "      <td>0</td>\n",
       "      <td>0</td>\n",
       "      <td>0</td>\n",
       "      <td>0</td>\n",
       "      <td>0</td>\n",
       "      <td>0</td>\n",
       "      <td>0</td>\n",
       "      <td>0</td>\n",
       "    </tr>\n",
       "    <tr>\n",
       "      <th>3</th>\n",
       "      <td>2017-11-01</td>\n",
       "      <td>2017-11-06</td>\n",
       "      <td>0</td>\n",
       "      <td>1</td>\n",
       "      <td>0</td>\n",
       "      <td>0</td>\n",
       "      <td>0</td>\n",
       "      <td>0</td>\n",
       "      <td>0</td>\n",
       "      <td>0</td>\n",
       "      <td>...</td>\n",
       "      <td>0</td>\n",
       "      <td>0</td>\n",
       "      <td>0</td>\n",
       "      <td>0</td>\n",
       "      <td>0</td>\n",
       "      <td>0</td>\n",
       "      <td>0</td>\n",
       "      <td>0</td>\n",
       "      <td>0</td>\n",
       "      <td>0</td>\n",
       "    </tr>\n",
       "    <tr>\n",
       "      <th>4</th>\n",
       "      <td>2017-12-01</td>\n",
       "      <td>2017-11-06</td>\n",
       "      <td>0</td>\n",
       "      <td>1</td>\n",
       "      <td>0</td>\n",
       "      <td>0</td>\n",
       "      <td>0</td>\n",
       "      <td>0</td>\n",
       "      <td>0</td>\n",
       "      <td>0</td>\n",
       "      <td>...</td>\n",
       "      <td>0</td>\n",
       "      <td>0</td>\n",
       "      <td>0</td>\n",
       "      <td>0</td>\n",
       "      <td>0</td>\n",
       "      <td>0</td>\n",
       "      <td>0</td>\n",
       "      <td>0</td>\n",
       "      <td>0</td>\n",
       "      <td>0</td>\n",
       "    </tr>\n",
       "  </tbody>\n",
       "</table>\n",
       "<p>5 rows × 529 columns</p>\n",
       "</div>"
      ],
      "text/plain": [
       "      MMM-YY Dateofjoining  Gender_Female  Gender_Male  City_C1  City_C10  \\\n",
       "0 2016-01-01    2015-12-24              0            1        0         0   \n",
       "1 2016-02-01    2015-12-24              0            1        0         0   \n",
       "2 2016-03-01    2015-12-24              0            1        0         0   \n",
       "3 2017-11-01    2017-11-06              0            1        0         0   \n",
       "4 2017-12-01    2017-11-06              0            1        0         0   \n",
       "\n",
       "   City_C11  City_C12  City_C13  City_C14  ...  LastWorkingDate_2017-12-15  \\\n",
       "0         0         0         0         0  ...                           0   \n",
       "1         0         0         0         0  ...                           0   \n",
       "2         0         0         0         0  ...                           0   \n",
       "3         0         0         0         0  ...                           0   \n",
       "4         0         0         0         0  ...                           0   \n",
       "\n",
       "   LastWorkingDate_2017-12-18  LastWorkingDate_2017-12-19  \\\n",
       "0                           0                           0   \n",
       "1                           0                           0   \n",
       "2                           0                           0   \n",
       "3                           0                           0   \n",
       "4                           0                           0   \n",
       "\n",
       "   LastWorkingDate_2017-12-20  LastWorkingDate_2017-12-21  \\\n",
       "0                           0                           0   \n",
       "1                           0                           0   \n",
       "2                           0                           0   \n",
       "3                           0                           0   \n",
       "4                           0                           0   \n",
       "\n",
       "   LastWorkingDate_2017-12-23  LastWorkingDate_2017-12-25  \\\n",
       "0                           0                           0   \n",
       "1                           0                           0   \n",
       "2                           0                           0   \n",
       "3                           0                           0   \n",
       "4                           0                           0   \n",
       "\n",
       "   LastWorkingDate_2017-12-26  LastWorkingDate_2017-12-27  \\\n",
       "0                           0                           0   \n",
       "1                           0                           0   \n",
       "2                           0                           0   \n",
       "3                           0                           0   \n",
       "4                           0                           0   \n",
       "\n",
       "   LastWorkingDate_2017-12-28  \n",
       "0                           0  \n",
       "1                           0  \n",
       "2                           0  \n",
       "3                           0  \n",
       "4                           0  \n",
       "\n",
       "[5 rows x 529 columns]"
      ]
     },
     "execution_count": 65,
     "metadata": {},
     "output_type": "execute_result"
    }
   ],
   "source": [
    "cat_coldum_encoded.head()"
   ]
  },
  {
   "cell_type": "code",
   "execution_count": 66,
   "id": "a8b0e996",
   "metadata": {},
   "outputs": [],
   "source": [
    "df1 = pd.concat([num_coldum,cat_coldum_encoded],sort=False,axis=1)"
   ]
  },
  {
   "cell_type": "markdown",
   "id": "8409d87e",
   "metadata": {},
   "source": [
    "## Mapping test data with training data."
   ]
  },
  {
   "cell_type": "code",
   "execution_count": 67,
   "id": "5295585c",
   "metadata": {},
   "outputs": [],
   "source": [
    "test1['Age']=test1['Emp_ID'].map(traindum.Age)"
   ]
  },
  {
   "cell_type": "code",
   "execution_count": 68,
   "id": "b0a026ba",
   "metadata": {},
   "outputs": [],
   "source": [
    "test1['Salary']=test1['Emp_ID'].map(traindum.Salary)"
   ]
  },
  {
   "cell_type": "code",
   "execution_count": 69,
   "id": "11ac8bc2",
   "metadata": {},
   "outputs": [],
   "source": [
    "test1['joining_designation']=test1['Emp_ID'].map(traindum.joining_designation)"
   ]
  },
  {
   "cell_type": "code",
   "execution_count": 70,
   "id": "a447f37c",
   "metadata": {},
   "outputs": [],
   "source": [
    "test1['Designation']=test1['Emp_ID'].map(traindum.Designation)"
   ]
  },
  {
   "cell_type": "code",
   "execution_count": 71,
   "id": "55a4ffdb",
   "metadata": {},
   "outputs": [],
   "source": [
    "test1['total_business_value']=test1['Emp_ID'].map(traindum.total_business_value)"
   ]
  },
  {
   "cell_type": "code",
   "execution_count": 72,
   "id": "94a8f7d9",
   "metadata": {},
   "outputs": [],
   "source": [
    "test1['quaterly_rating']=test1['Emp_ID'].map(traindum.quaterly_rating)"
   ]
  },
  {
   "cell_type": "code",
   "execution_count": 73,
   "id": "466025ef",
   "metadata": {},
   "outputs": [],
   "source": [
    "test1['term_duration']=test1['Emp_ID'].map(traindum.term_duration)"
   ]
  },
  {
   "cell_type": "code",
   "execution_count": 74,
   "id": "5ad59e02",
   "metadata": {},
   "outputs": [],
   "source": [
    "test1['Gender_Female']=test1['Emp_ID'].map(df1.Gender_Female)"
   ]
  },
  {
   "cell_type": "code",
   "execution_count": 75,
   "id": "9378b776",
   "metadata": {},
   "outputs": [],
   "source": [
    "test1['Gender_Male']=test1['Emp_ID'].map(df1.Gender_Male)"
   ]
  },
  {
   "cell_type": "code",
   "execution_count": 76,
   "id": "f2c3b05f",
   "metadata": {},
   "outputs": [],
   "source": [
    "test1['City_C1']=test1['Emp_ID'].map(df1.City_C1)"
   ]
  },
  {
   "cell_type": "code",
   "execution_count": 77,
   "id": "099d87bf",
   "metadata": {},
   "outputs": [],
   "source": [
    "test1['City_C10']=test1['Emp_ID'].map(df1.City_C10)"
   ]
  },
  {
   "cell_type": "code",
   "execution_count": 78,
   "id": "66b76e2e",
   "metadata": {},
   "outputs": [],
   "source": [
    "test1['City_C11']=test1['Emp_ID'].map(df1.City_C11)"
   ]
  },
  {
   "cell_type": "code",
   "execution_count": 79,
   "id": "c1d5044a",
   "metadata": {},
   "outputs": [],
   "source": [
    "test1['City_C12']=test1['Emp_ID'].map(df1.City_C12)"
   ]
  },
  {
   "cell_type": "code",
   "execution_count": 80,
   "id": "17426898",
   "metadata": {},
   "outputs": [],
   "source": [
    "test1['City_C13']=test1['Emp_ID'].map(df1.City_C13)"
   ]
  },
  {
   "cell_type": "code",
   "execution_count": 81,
   "id": "9a9df29c",
   "metadata": {},
   "outputs": [],
   "source": [
    "test1['City_C14']=test1['Emp_ID'].map(df1.City_C14)"
   ]
  },
  {
   "cell_type": "code",
   "execution_count": 82,
   "id": "e54df48c",
   "metadata": {},
   "outputs": [],
   "source": [
    "test1['City_C15']=test1['Emp_ID'].map(df1.City_C15)"
   ]
  },
  {
   "cell_type": "code",
   "execution_count": 83,
   "id": "42dfc459",
   "metadata": {},
   "outputs": [],
   "source": [
    "test1['City_C16']=test1['Emp_ID'].map(df1.City_C16)"
   ]
  },
  {
   "cell_type": "code",
   "execution_count": 84,
   "id": "d7e0e5e5",
   "metadata": {},
   "outputs": [],
   "source": [
    "test1['City_C17']=test1['Emp_ID'].map(df1.City_C17)"
   ]
  },
  {
   "cell_type": "code",
   "execution_count": 85,
   "id": "a825c3a2",
   "metadata": {},
   "outputs": [],
   "source": [
    "test1['City_C18']=test1['Emp_ID'].map(df1.City_C18)"
   ]
  },
  {
   "cell_type": "code",
   "execution_count": 86,
   "id": "41cdc676",
   "metadata": {},
   "outputs": [],
   "source": [
    "test1['City_C19']=test1['Emp_ID'].map(df1.City_C19)"
   ]
  },
  {
   "cell_type": "code",
   "execution_count": 87,
   "id": "aa9a7f59",
   "metadata": {},
   "outputs": [],
   "source": [
    "test1['City_C20']=test1['Emp_ID'].map(df1.City_C20)"
   ]
  },
  {
   "cell_type": "code",
   "execution_count": 88,
   "id": "75ca94e0",
   "metadata": {},
   "outputs": [],
   "source": [
    "test1['City_C21']=test1['Emp_ID'].map(df1.City_C21)"
   ]
  },
  {
   "cell_type": "code",
   "execution_count": 89,
   "id": "ad43f948",
   "metadata": {},
   "outputs": [],
   "source": [
    "test1['City_C22']=test1['Emp_ID'].map(df1.City_C22)"
   ]
  },
  {
   "cell_type": "code",
   "execution_count": 90,
   "id": "12e4be0a",
   "metadata": {},
   "outputs": [],
   "source": [
    "test1['City_C23']=test1['Emp_ID'].map(df1.City_C23)"
   ]
  },
  {
   "cell_type": "code",
   "execution_count": 91,
   "id": "72230a13",
   "metadata": {},
   "outputs": [],
   "source": [
    "test1['City_C24']=test1['Emp_ID'].map(df1.City_C24)"
   ]
  },
  {
   "cell_type": "code",
   "execution_count": 92,
   "id": "3e70a0a6",
   "metadata": {},
   "outputs": [],
   "source": [
    "test1['City_C25']=test1['Emp_ID'].map(df1.City_C25)"
   ]
  },
  {
   "cell_type": "code",
   "execution_count": 93,
   "id": "30f0735b",
   "metadata": {},
   "outputs": [],
   "source": [
    "test1['City_C26']=test1['Emp_ID'].map(df1.City_C26)"
   ]
  },
  {
   "cell_type": "code",
   "execution_count": 94,
   "id": "e26adb21",
   "metadata": {},
   "outputs": [],
   "source": [
    "test1['City_C27']=test1['Emp_ID'].map(df1.City_C27)"
   ]
  },
  {
   "cell_type": "code",
   "execution_count": 95,
   "id": "90ed078c",
   "metadata": {},
   "outputs": [],
   "source": [
    "test1['City_C28']=test1['Emp_ID'].map(df1.City_C28)"
   ]
  },
  {
   "cell_type": "code",
   "execution_count": 96,
   "id": "1ca22c1d",
   "metadata": {},
   "outputs": [],
   "source": [
    "test1['City_C29']=test1['Emp_ID'].map(df1.City_C29)"
   ]
  },
  {
   "cell_type": "code",
   "execution_count": 97,
   "id": "4656d052",
   "metadata": {},
   "outputs": [],
   "source": [
    "test1['City_C2']=test1['Emp_ID'].map(df1.City_C2)"
   ]
  },
  {
   "cell_type": "code",
   "execution_count": 98,
   "id": "ba0d96ef",
   "metadata": {},
   "outputs": [],
   "source": [
    "test1['City_C3']=test1['Emp_ID'].map(df1.City_C3)"
   ]
  },
  {
   "cell_type": "code",
   "execution_count": 99,
   "id": "26f78d4d",
   "metadata": {},
   "outputs": [],
   "source": [
    "test1['City_C4']=test1['Emp_ID'].map(df1.City_C4)"
   ]
  },
  {
   "cell_type": "code",
   "execution_count": 100,
   "id": "75b79484",
   "metadata": {},
   "outputs": [],
   "source": [
    "test1['City_C5']=test1['Emp_ID'].map(df1.City_C5)"
   ]
  },
  {
   "cell_type": "code",
   "execution_count": 101,
   "id": "01676dae",
   "metadata": {},
   "outputs": [],
   "source": [
    "test1['City_C6']=test1['Emp_ID'].map(df1.City_C6)"
   ]
  },
  {
   "cell_type": "code",
   "execution_count": 102,
   "id": "12325a70",
   "metadata": {},
   "outputs": [],
   "source": [
    "test1['City_C7']=test1['Emp_ID'].map(df1.City_C7)"
   ]
  },
  {
   "cell_type": "code",
   "execution_count": 103,
   "id": "699b0e0d",
   "metadata": {},
   "outputs": [],
   "source": [
    "test1['City_C8']=test1['Emp_ID'].map(df1.City_C8)"
   ]
  },
  {
   "cell_type": "code",
   "execution_count": 104,
   "id": "25ec6e12",
   "metadata": {},
   "outputs": [],
   "source": [
    "test1['City_C9']=test1['Emp_ID'].map(df1.City_C9)"
   ]
  },
  {
   "cell_type": "code",
   "execution_count": 105,
   "id": "af89fbcc",
   "metadata": {},
   "outputs": [],
   "source": [
    "test1['Education_Level_Bachelor']=test1['Emp_ID'].map(df1.Education_Level_Bachelor)"
   ]
  },
  {
   "cell_type": "code",
   "execution_count": 106,
   "id": "dd11b06b",
   "metadata": {},
   "outputs": [],
   "source": [
    "test1['Education_Level_College']=test1['Emp_ID'].map(df1.Education_Level_College)"
   ]
  },
  {
   "cell_type": "code",
   "execution_count": 107,
   "id": "46d3b74d",
   "metadata": {},
   "outputs": [],
   "source": [
    "test1['Education_Level_Master']=test1['Emp_ID'].map(df1.Education_Level_Master)"
   ]
  },
  {
   "cell_type": "code",
   "execution_count": 108,
   "id": "52cd1f58",
   "metadata": {},
   "outputs": [
    {
     "data": {
      "text/plain": [
       "(741, 42)"
      ]
     },
     "execution_count": 108,
     "metadata": {},
     "output_type": "execute_result"
    }
   ],
   "source": [
    "test1.shape"
   ]
  },
  {
   "cell_type": "code",
   "execution_count": 109,
   "id": "b4bbadd2",
   "metadata": {},
   "outputs": [
    {
     "data": {
      "text/plain": [
       "Emp_ID                      0\n",
       "Age                         0\n",
       "Salary                      0\n",
       "joining_designation         0\n",
       "Designation                 0\n",
       "total_business_value        0\n",
       "quaterly_rating             0\n",
       "term_duration               0\n",
       "Gender_Female               0\n",
       "Gender_Male                 0\n",
       "City_C1                     0\n",
       "City_C10                    0\n",
       "City_C11                    0\n",
       "City_C12                    0\n",
       "City_C13                    0\n",
       "City_C14                    0\n",
       "City_C15                    0\n",
       "City_C16                    0\n",
       "City_C17                    0\n",
       "City_C18                    0\n",
       "City_C19                    0\n",
       "City_C20                    0\n",
       "City_C21                    0\n",
       "City_C22                    0\n",
       "City_C23                    0\n",
       "City_C24                    0\n",
       "City_C25                    0\n",
       "City_C26                    0\n",
       "City_C27                    0\n",
       "City_C28                    0\n",
       "City_C29                    0\n",
       "City_C2                     0\n",
       "City_C3                     0\n",
       "City_C4                     0\n",
       "City_C5                     0\n",
       "City_C6                     0\n",
       "City_C7                     0\n",
       "City_C8                     0\n",
       "City_C9                     0\n",
       "Education_Level_Bachelor    0\n",
       "Education_Level_College     0\n",
       "Education_Level_Master      0\n",
       "dtype: int64"
      ]
     },
     "execution_count": 109,
     "metadata": {},
     "output_type": "execute_result"
    }
   ],
   "source": [
    "test1.isnull().sum()"
   ]
  },
  {
   "cell_type": "markdown",
   "id": "3e1c38a3",
   "metadata": {},
   "source": [
    "## Final prediction test data"
   ]
  },
  {
   "cell_type": "code",
   "execution_count": 110,
   "id": "c37f78ea",
   "metadata": {},
   "outputs": [],
   "source": [
    "final_predictions = model.predict(test1)"
   ]
  },
  {
   "cell_type": "code",
   "execution_count": 111,
   "id": "f93cba33",
   "metadata": {},
   "outputs": [],
   "source": [
    "n['Attrition']=final_predictions"
   ]
  },
  {
   "cell_type": "code",
   "execution_count": 112,
   "id": "4d629e83",
   "metadata": {},
   "outputs": [
    {
     "data": {
      "text/html": [
       "<div>\n",
       "<style scoped>\n",
       "    .dataframe tbody tr th:only-of-type {\n",
       "        vertical-align: middle;\n",
       "    }\n",
       "\n",
       "    .dataframe tbody tr th {\n",
       "        vertical-align: top;\n",
       "    }\n",
       "\n",
       "    .dataframe thead th {\n",
       "        text-align: right;\n",
       "    }\n",
       "</style>\n",
       "<table border=\"1\" class=\"dataframe\">\n",
       "  <thead>\n",
       "    <tr style=\"text-align: right;\">\n",
       "      <th></th>\n",
       "      <th>Emp_ID</th>\n",
       "      <th>Target</th>\n",
       "      <th>Attrition</th>\n",
       "    </tr>\n",
       "  </thead>\n",
       "  <tbody>\n",
       "    <tr>\n",
       "      <th>0</th>\n",
       "      <td>394</td>\n",
       "      <td>0</td>\n",
       "      <td>0.148169</td>\n",
       "    </tr>\n",
       "    <tr>\n",
       "      <th>1</th>\n",
       "      <td>173</td>\n",
       "      <td>0</td>\n",
       "      <td>0.088538</td>\n",
       "    </tr>\n",
       "    <tr>\n",
       "      <th>2</th>\n",
       "      <td>1090</td>\n",
       "      <td>0</td>\n",
       "      <td>0.044410</td>\n",
       "    </tr>\n",
       "    <tr>\n",
       "      <th>3</th>\n",
       "      <td>840</td>\n",
       "      <td>0</td>\n",
       "      <td>0.003460</td>\n",
       "    </tr>\n",
       "    <tr>\n",
       "      <th>4</th>\n",
       "      <td>308</td>\n",
       "      <td>0</td>\n",
       "      <td>0.200820</td>\n",
       "    </tr>\n",
       "    <tr>\n",
       "      <th>5</th>\n",
       "      <td>1864</td>\n",
       "      <td>0</td>\n",
       "      <td>0.191779</td>\n",
       "    </tr>\n",
       "    <tr>\n",
       "      <th>6</th>\n",
       "      <td>1606</td>\n",
       "      <td>0</td>\n",
       "      <td>0.168407</td>\n",
       "    </tr>\n",
       "    <tr>\n",
       "      <th>7</th>\n",
       "      <td>954</td>\n",
       "      <td>0</td>\n",
       "      <td>0.016347</td>\n",
       "    </tr>\n",
       "    <tr>\n",
       "      <th>8</th>\n",
       "      <td>2422</td>\n",
       "      <td>0</td>\n",
       "      <td>0.187335</td>\n",
       "    </tr>\n",
       "    <tr>\n",
       "      <th>9</th>\n",
       "      <td>1841</td>\n",
       "      <td>0</td>\n",
       "      <td>0.187976</td>\n",
       "    </tr>\n",
       "    <tr>\n",
       "      <th>10</th>\n",
       "      <td>1484</td>\n",
       "      <td>0</td>\n",
       "      <td>0.180623</td>\n",
       "    </tr>\n",
       "    <tr>\n",
       "      <th>11</th>\n",
       "      <td>2727</td>\n",
       "      <td>0</td>\n",
       "      <td>0.084414</td>\n",
       "    </tr>\n",
       "    <tr>\n",
       "      <th>12</th>\n",
       "      <td>1031</td>\n",
       "      <td>0</td>\n",
       "      <td>0.200141</td>\n",
       "    </tr>\n",
       "    <tr>\n",
       "      <th>13</th>\n",
       "      <td>2137</td>\n",
       "      <td>0</td>\n",
       "      <td>0.172698</td>\n",
       "    </tr>\n",
       "    <tr>\n",
       "      <th>14</th>\n",
       "      <td>2568</td>\n",
       "      <td>0</td>\n",
       "      <td>0.176074</td>\n",
       "    </tr>\n",
       "    <tr>\n",
       "      <th>15</th>\n",
       "      <td>1745</td>\n",
       "      <td>0</td>\n",
       "      <td>0.166283</td>\n",
       "    </tr>\n",
       "    <tr>\n",
       "      <th>16</th>\n",
       "      <td>2668</td>\n",
       "      <td>0</td>\n",
       "      <td>0.135473</td>\n",
       "    </tr>\n",
       "    <tr>\n",
       "      <th>17</th>\n",
       "      <td>2617</td>\n",
       "      <td>0</td>\n",
       "      <td>-0.056539</td>\n",
       "    </tr>\n",
       "    <tr>\n",
       "      <th>18</th>\n",
       "      <td>2070</td>\n",
       "      <td>0</td>\n",
       "      <td>-0.003699</td>\n",
       "    </tr>\n",
       "    <tr>\n",
       "      <th>19</th>\n",
       "      <td>1446</td>\n",
       "      <td>0</td>\n",
       "      <td>0.208536</td>\n",
       "    </tr>\n",
       "    <tr>\n",
       "      <th>20</th>\n",
       "      <td>1043</td>\n",
       "      <td>0</td>\n",
       "      <td>0.038807</td>\n",
       "    </tr>\n",
       "    <tr>\n",
       "      <th>21</th>\n",
       "      <td>2561</td>\n",
       "      <td>0</td>\n",
       "      <td>0.060811</td>\n",
       "    </tr>\n",
       "    <tr>\n",
       "      <th>22</th>\n",
       "      <td>945</td>\n",
       "      <td>0</td>\n",
       "      <td>-0.043220</td>\n",
       "    </tr>\n",
       "    <tr>\n",
       "      <th>23</th>\n",
       "      <td>2517</td>\n",
       "      <td>0</td>\n",
       "      <td>0.038059</td>\n",
       "    </tr>\n",
       "    <tr>\n",
       "      <th>24</th>\n",
       "      <td>1039</td>\n",
       "      <td>0</td>\n",
       "      <td>0.115888</td>\n",
       "    </tr>\n",
       "    <tr>\n",
       "      <th>25</th>\n",
       "      <td>2594</td>\n",
       "      <td>0</td>\n",
       "      <td>0.178140</td>\n",
       "    </tr>\n",
       "    <tr>\n",
       "      <th>26</th>\n",
       "      <td>115</td>\n",
       "      <td>0</td>\n",
       "      <td>-0.003636</td>\n",
       "    </tr>\n",
       "    <tr>\n",
       "      <th>27</th>\n",
       "      <td>870</td>\n",
       "      <td>0</td>\n",
       "      <td>0.168407</td>\n",
       "    </tr>\n",
       "    <tr>\n",
       "      <th>28</th>\n",
       "      <td>329</td>\n",
       "      <td>0</td>\n",
       "      <td>0.110065</td>\n",
       "    </tr>\n",
       "    <tr>\n",
       "      <th>29</th>\n",
       "      <td>973</td>\n",
       "      <td>0</td>\n",
       "      <td>0.179725</td>\n",
       "    </tr>\n",
       "    <tr>\n",
       "      <th>30</th>\n",
       "      <td>1892</td>\n",
       "      <td>0</td>\n",
       "      <td>0.113323</td>\n",
       "    </tr>\n",
       "    <tr>\n",
       "      <th>31</th>\n",
       "      <td>2740</td>\n",
       "      <td>0</td>\n",
       "      <td>0.055985</td>\n",
       "    </tr>\n",
       "    <tr>\n",
       "      <th>32</th>\n",
       "      <td>1093</td>\n",
       "      <td>0</td>\n",
       "      <td>0.119797</td>\n",
       "    </tr>\n",
       "    <tr>\n",
       "      <th>33</th>\n",
       "      <td>693</td>\n",
       "      <td>0</td>\n",
       "      <td>0.117965</td>\n",
       "    </tr>\n",
       "    <tr>\n",
       "      <th>34</th>\n",
       "      <td>1817</td>\n",
       "      <td>0</td>\n",
       "      <td>0.120596</td>\n",
       "    </tr>\n",
       "    <tr>\n",
       "      <th>35</th>\n",
       "      <td>1753</td>\n",
       "      <td>0</td>\n",
       "      <td>0.171663</td>\n",
       "    </tr>\n",
       "    <tr>\n",
       "      <th>36</th>\n",
       "      <td>2420</td>\n",
       "      <td>0</td>\n",
       "      <td>0.177031</td>\n",
       "    </tr>\n",
       "    <tr>\n",
       "      <th>37</th>\n",
       "      <td>1655</td>\n",
       "      <td>0</td>\n",
       "      <td>0.004463</td>\n",
       "    </tr>\n",
       "    <tr>\n",
       "      <th>38</th>\n",
       "      <td>1573</td>\n",
       "      <td>0</td>\n",
       "      <td>0.151837</td>\n",
       "    </tr>\n",
       "    <tr>\n",
       "      <th>39</th>\n",
       "      <td>2365</td>\n",
       "      <td>0</td>\n",
       "      <td>-0.054071</td>\n",
       "    </tr>\n",
       "    <tr>\n",
       "      <th>40</th>\n",
       "      <td>1623</td>\n",
       "      <td>0</td>\n",
       "      <td>0.163515</td>\n",
       "    </tr>\n",
       "    <tr>\n",
       "      <th>41</th>\n",
       "      <td>2625</td>\n",
       "      <td>0</td>\n",
       "      <td>0.164726</td>\n",
       "    </tr>\n",
       "    <tr>\n",
       "      <th>42</th>\n",
       "      <td>1335</td>\n",
       "      <td>0</td>\n",
       "      <td>0.142703</td>\n",
       "    </tr>\n",
       "    <tr>\n",
       "      <th>43</th>\n",
       "      <td>450</td>\n",
       "      <td>0</td>\n",
       "      <td>0.022248</td>\n",
       "    </tr>\n",
       "    <tr>\n",
       "      <th>44</th>\n",
       "      <td>2087</td>\n",
       "      <td>0</td>\n",
       "      <td>0.158379</td>\n",
       "    </tr>\n",
       "    <tr>\n",
       "      <th>45</th>\n",
       "      <td>2576</td>\n",
       "      <td>0</td>\n",
       "      <td>-0.008624</td>\n",
       "    </tr>\n",
       "    <tr>\n",
       "      <th>46</th>\n",
       "      <td>2771</td>\n",
       "      <td>0</td>\n",
       "      <td>0.018481</td>\n",
       "    </tr>\n",
       "    <tr>\n",
       "      <th>47</th>\n",
       "      <td>1549</td>\n",
       "      <td>0</td>\n",
       "      <td>0.066962</td>\n",
       "    </tr>\n",
       "    <tr>\n",
       "      <th>48</th>\n",
       "      <td>1657</td>\n",
       "      <td>0</td>\n",
       "      <td>0.004012</td>\n",
       "    </tr>\n",
       "    <tr>\n",
       "      <th>49</th>\n",
       "      <td>1957</td>\n",
       "      <td>0</td>\n",
       "      <td>0.013374</td>\n",
       "    </tr>\n",
       "  </tbody>\n",
       "</table>\n",
       "</div>"
      ],
      "text/plain": [
       "    Emp_ID  Target  Attrition\n",
       "0      394       0   0.148169\n",
       "1      173       0   0.088538\n",
       "2     1090       0   0.044410\n",
       "3      840       0   0.003460\n",
       "4      308       0   0.200820\n",
       "5     1864       0   0.191779\n",
       "6     1606       0   0.168407\n",
       "7      954       0   0.016347\n",
       "8     2422       0   0.187335\n",
       "9     1841       0   0.187976\n",
       "10    1484       0   0.180623\n",
       "11    2727       0   0.084414\n",
       "12    1031       0   0.200141\n",
       "13    2137       0   0.172698\n",
       "14    2568       0   0.176074\n",
       "15    1745       0   0.166283\n",
       "16    2668       0   0.135473\n",
       "17    2617       0  -0.056539\n",
       "18    2070       0  -0.003699\n",
       "19    1446       0   0.208536\n",
       "20    1043       0   0.038807\n",
       "21    2561       0   0.060811\n",
       "22     945       0  -0.043220\n",
       "23    2517       0   0.038059\n",
       "24    1039       0   0.115888\n",
       "25    2594       0   0.178140\n",
       "26     115       0  -0.003636\n",
       "27     870       0   0.168407\n",
       "28     329       0   0.110065\n",
       "29     973       0   0.179725\n",
       "30    1892       0   0.113323\n",
       "31    2740       0   0.055985\n",
       "32    1093       0   0.119797\n",
       "33     693       0   0.117965\n",
       "34    1817       0   0.120596\n",
       "35    1753       0   0.171663\n",
       "36    2420       0   0.177031\n",
       "37    1655       0   0.004463\n",
       "38    1573       0   0.151837\n",
       "39    2365       0  -0.054071\n",
       "40    1623       0   0.163515\n",
       "41    2625       0   0.164726\n",
       "42    1335       0   0.142703\n",
       "43     450       0   0.022248\n",
       "44    2087       0   0.158379\n",
       "45    2576       0  -0.008624\n",
       "46    2771       0   0.018481\n",
       "47    1549       0   0.066962\n",
       "48    1657       0   0.004012\n",
       "49    1957       0   0.013374"
      ]
     },
     "execution_count": 112,
     "metadata": {},
     "output_type": "execute_result"
    }
   ],
   "source": [
    "n.head(50)"
   ]
  },
  {
   "cell_type": "code",
   "execution_count": 113,
   "id": "9a7a1ae6",
   "metadata": {},
   "outputs": [],
   "source": [
    "n['Attrition'] = n['Attrition'].apply(lambda x: 0 if x<0 else x)"
   ]
  },
  {
   "cell_type": "code",
   "execution_count": 114,
   "id": "2f4c749d",
   "metadata": {},
   "outputs": [],
   "source": [
    "n['Attrition']=n['Attrition'].astype('int32')"
   ]
  },
  {
   "cell_type": "code",
   "execution_count": 115,
   "id": "983335af",
   "metadata": {},
   "outputs": [
    {
     "name": "stdout",
     "output_type": "stream",
     "text": [
      "<class 'pandas.core.frame.DataFrame'>\n",
      "RangeIndex: 741 entries, 0 to 740\n",
      "Data columns (total 3 columns):\n",
      " #   Column     Non-Null Count  Dtype\n",
      "---  ------     --------------  -----\n",
      " 0   Emp_ID     741 non-null    int64\n",
      " 1   Target     741 non-null    int64\n",
      " 2   Attrition  741 non-null    int32\n",
      "dtypes: int32(1), int64(2)\n",
      "memory usage: 14.6 KB\n"
     ]
    }
   ],
   "source": [
    "n.info()"
   ]
  },
  {
   "cell_type": "markdown",
   "id": "1ecf35d0",
   "metadata": {},
   "source": [
    "## Calculating f1-score."
   ]
  },
  {
   "cell_type": "code",
   "execution_count": 116,
   "id": "6103cec9",
   "metadata": {},
   "outputs": [
    {
     "name": "stdout",
     "output_type": "stream",
     "text": [
      "              precision    recall  f1-score   support\n",
      "\n",
      "           0       1.00      1.00      1.00       741\n",
      "\n",
      "    accuracy                           1.00       741\n",
      "   macro avg       1.00      1.00      1.00       741\n",
      "weighted avg       1.00      1.00      1.00       741\n",
      "\n"
     ]
    }
   ],
   "source": [
    "from sklearn.metrics import classification_report\n",
    "print(classification_report(n.Target, n.Attrition))"
   ]
  },
  {
   "cell_type": "code",
   "execution_count": 123,
   "id": "687bb2aa",
   "metadata": {},
   "outputs": [],
   "source": [
    "n1=n.drop(['Target'],axis='columns')"
   ]
  },
  {
   "cell_type": "code",
   "execution_count": 128,
   "id": "24fc93c6",
   "metadata": {},
   "outputs": [],
   "source": [
    " n1.rename(columns={'Attrition':'Target'},inplace=True)"
   ]
  },
  {
   "cell_type": "code",
   "execution_count": 129,
   "id": "3ed48098",
   "metadata": {},
   "outputs": [],
   "source": [
    "# train2.rename(columns={'Joining Designation':'joining_designation','Total Business Value': 'total_business_value','Quarterly Rating':'quaterly_rating'},inplace=True)"
   ]
  },
  {
   "cell_type": "code",
   "execution_count": 131,
   "id": "2ed8cafe",
   "metadata": {},
   "outputs": [
    {
     "data": {
      "text/html": [
       "<div>\n",
       "<style scoped>\n",
       "    .dataframe tbody tr th:only-of-type {\n",
       "        vertical-align: middle;\n",
       "    }\n",
       "\n",
       "    .dataframe tbody tr th {\n",
       "        vertical-align: top;\n",
       "    }\n",
       "\n",
       "    .dataframe thead th {\n",
       "        text-align: right;\n",
       "    }\n",
       "</style>\n",
       "<table border=\"1\" class=\"dataframe\">\n",
       "  <thead>\n",
       "    <tr style=\"text-align: right;\">\n",
       "      <th></th>\n",
       "      <th>Emp_ID</th>\n",
       "      <th>Target</th>\n",
       "    </tr>\n",
       "  </thead>\n",
       "  <tbody>\n",
       "    <tr>\n",
       "      <th>0</th>\n",
       "      <td>394</td>\n",
       "      <td>0</td>\n",
       "    </tr>\n",
       "    <tr>\n",
       "      <th>1</th>\n",
       "      <td>173</td>\n",
       "      <td>0</td>\n",
       "    </tr>\n",
       "    <tr>\n",
       "      <th>2</th>\n",
       "      <td>1090</td>\n",
       "      <td>0</td>\n",
       "    </tr>\n",
       "    <tr>\n",
       "      <th>3</th>\n",
       "      <td>840</td>\n",
       "      <td>0</td>\n",
       "    </tr>\n",
       "    <tr>\n",
       "      <th>4</th>\n",
       "      <td>308</td>\n",
       "      <td>0</td>\n",
       "    </tr>\n",
       "  </tbody>\n",
       "</table>\n",
       "</div>"
      ],
      "text/plain": [
       "   Emp_ID  Target\n",
       "0     394       0\n",
       "1     173       0\n",
       "2    1090       0\n",
       "3     840       0\n",
       "4     308       0"
      ]
     },
     "execution_count": 131,
     "metadata": {},
     "output_type": "execute_result"
    }
   ],
   "source": [
    "n1.head()"
   ]
  },
  {
   "cell_type": "code",
   "execution_count": null,
   "id": "cfc2cdfd",
   "metadata": {},
   "outputs": [],
   "source": [
    "n1.to_csv('my_submission1.csv', index=False)"
   ]
  }
 ],
 "metadata": {
  "kernelspec": {
   "display_name": "Python 3 (ipykernel)",
   "language": "python",
   "name": "python3"
  },
  "language_info": {
   "codemirror_mode": {
    "name": "ipython",
    "version": 3
   },
   "file_extension": ".py",
   "mimetype": "text/x-python",
   "name": "python",
   "nbconvert_exporter": "python",
   "pygments_lexer": "ipython3",
   "version": "3.9.7"
  }
 },
 "nbformat": 4,
 "nbformat_minor": 5
}
